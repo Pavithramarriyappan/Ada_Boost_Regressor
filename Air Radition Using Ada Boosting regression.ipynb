{
 "cells": [
  {
   "cell_type": "code",
   "execution_count": 1,
   "id": "d64f8e0c",
   "metadata": {},
   "outputs": [],
   "source": [
    "import pandas as pd\n",
    "import numpy as np\n",
    "import matplotlib as mlp\n",
    "import matplotlib.pyplot as plt\n",
    "import seaborn as sns\n",
    "import sklearn as sk"
   ]
  },
  {
   "cell_type": "code",
   "execution_count": 2,
   "id": "cc32882e",
   "metadata": {},
   "outputs": [],
   "source": [
    "air=pd.read_csv(\"Air.csv\")"
   ]
  },
  {
   "cell_type": "code",
   "execution_count": 3,
   "id": "92b6f7b9",
   "metadata": {},
   "outputs": [
    {
     "data": {
      "text/html": [
       "<div>\n",
       "<style scoped>\n",
       "    .dataframe tbody tr th:only-of-type {\n",
       "        vertical-align: middle;\n",
       "    }\n",
       "\n",
       "    .dataframe tbody tr th {\n",
       "        vertical-align: top;\n",
       "    }\n",
       "\n",
       "    .dataframe thead th {\n",
       "        text-align: right;\n",
       "    }\n",
       "</style>\n",
       "<table border=\"1\" class=\"dataframe\">\n",
       "  <thead>\n",
       "    <tr style=\"text-align: right;\">\n",
       "      <th></th>\n",
       "      <th>Analysis Id</th>\n",
       "      <th>Sample Id</th>\n",
       "      <th>Sample#</th>\n",
       "      <th>Type</th>\n",
       "      <th>Fixed?</th>\n",
       "      <th>Latitude</th>\n",
       "      <th>Longitude</th>\n",
       "      <th>Distance(miles)</th>\n",
       "      <th>Bearing</th>\n",
       "      <th>Direction</th>\n",
       "      <th>...</th>\n",
       "      <th>Filter Type</th>\n",
       "      <th>Volume</th>\n",
       "      <th>Volume Unit</th>\n",
       "      <th>Uncertainty%</th>\n",
       "      <th>MDA</th>\n",
       "      <th>Method Code</th>\n",
       "      <th>Moisture%</th>\n",
       "      <th>Nuclide</th>\n",
       "      <th>Result</th>\n",
       "      <th>Unit</th>\n",
       "    </tr>\n",
       "  </thead>\n",
       "  <tbody>\n",
       "    <tr>\n",
       "      <th>0</th>\n",
       "      <td>200609</td>\n",
       "      <td>7233</td>\n",
       "      <td>SCF-00001</td>\n",
       "      <td>Air Filter</td>\n",
       "      <td>No</td>\n",
       "      <td>37.354164</td>\n",
       "      <td>140.322898</td>\n",
       "      <td>39.321527</td>\n",
       "      <td>263.416056</td>\n",
       "      <td>W</td>\n",
       "      <td>...</td>\n",
       "      <td>charcoal</td>\n",
       "      <td>22.0</td>\n",
       "      <td>cubic feet</td>\n",
       "      <td>0.0</td>\n",
       "      <td>4.827416e-12</td>\n",
       "      <td>Gamma Spectroscopy</td>\n",
       "      <td>NaN</td>\n",
       "      <td>Ba-140</td>\n",
       "      <td>0.0</td>\n",
       "      <td>uCi/mL</td>\n",
       "    </tr>\n",
       "    <tr>\n",
       "      <th>1</th>\n",
       "      <td>200611</td>\n",
       "      <td>7233</td>\n",
       "      <td>SCF-00001</td>\n",
       "      <td>Air Filter</td>\n",
       "      <td>No</td>\n",
       "      <td>37.354164</td>\n",
       "      <td>140.322898</td>\n",
       "      <td>39.321527</td>\n",
       "      <td>263.416056</td>\n",
       "      <td>W</td>\n",
       "      <td>...</td>\n",
       "      <td>charcoal</td>\n",
       "      <td>22.0</td>\n",
       "      <td>cubic feet</td>\n",
       "      <td>0.0</td>\n",
       "      <td>1.123553e-11</td>\n",
       "      <td>Gamma Spectroscopy</td>\n",
       "      <td>NaN</td>\n",
       "      <td>Ce-144</td>\n",
       "      <td>0.0</td>\n",
       "      <td>uCi/mL</td>\n",
       "    </tr>\n",
       "    <tr>\n",
       "      <th>2</th>\n",
       "      <td>200613</td>\n",
       "      <td>7233</td>\n",
       "      <td>SCF-00001</td>\n",
       "      <td>Air Filter</td>\n",
       "      <td>No</td>\n",
       "      <td>37.354164</td>\n",
       "      <td>140.322898</td>\n",
       "      <td>39.321527</td>\n",
       "      <td>263.416056</td>\n",
       "      <td>W</td>\n",
       "      <td>...</td>\n",
       "      <td>charcoal</td>\n",
       "      <td>22.0</td>\n",
       "      <td>cubic feet</td>\n",
       "      <td>0.0</td>\n",
       "      <td>2.790014e-12</td>\n",
       "      <td>Gamma Spectroscopy</td>\n",
       "      <td>NaN</td>\n",
       "      <td>Cs-134</td>\n",
       "      <td>0.0</td>\n",
       "      <td>uCi/mL</td>\n",
       "    </tr>\n",
       "    <tr>\n",
       "      <th>3</th>\n",
       "      <td>200615</td>\n",
       "      <td>7233</td>\n",
       "      <td>SCF-00001</td>\n",
       "      <td>Air Filter</td>\n",
       "      <td>No</td>\n",
       "      <td>37.354164</td>\n",
       "      <td>140.322898</td>\n",
       "      <td>39.321527</td>\n",
       "      <td>263.416056</td>\n",
       "      <td>W</td>\n",
       "      <td>...</td>\n",
       "      <td>charcoal</td>\n",
       "      <td>22.0</td>\n",
       "      <td>cubic feet</td>\n",
       "      <td>0.0</td>\n",
       "      <td>7.045142e-12</td>\n",
       "      <td>Gamma Spectroscopy</td>\n",
       "      <td>NaN</td>\n",
       "      <td>Cs-136</td>\n",
       "      <td>0.0</td>\n",
       "      <td>uCi/mL</td>\n",
       "    </tr>\n",
       "    <tr>\n",
       "      <th>4</th>\n",
       "      <td>200617</td>\n",
       "      <td>7233</td>\n",
       "      <td>SCF-00001</td>\n",
       "      <td>Air Filter</td>\n",
       "      <td>No</td>\n",
       "      <td>37.354164</td>\n",
       "      <td>140.322898</td>\n",
       "      <td>39.321527</td>\n",
       "      <td>263.416056</td>\n",
       "      <td>W</td>\n",
       "      <td>...</td>\n",
       "      <td>charcoal</td>\n",
       "      <td>22.0</td>\n",
       "      <td>cubic feet</td>\n",
       "      <td>0.0</td>\n",
       "      <td>2.578331e-12</td>\n",
       "      <td>Gamma Spectroscopy</td>\n",
       "      <td>NaN</td>\n",
       "      <td>Cs-137</td>\n",
       "      <td>0.0</td>\n",
       "      <td>uCi/mL</td>\n",
       "    </tr>\n",
       "  </tbody>\n",
       "</table>\n",
       "<p>5 rows × 23 columns</p>\n",
       "</div>"
      ],
      "text/plain": [
       "   Analysis Id  Sample Id    Sample#        Type Fixed?   Latitude  \\\n",
       "0       200609       7233  SCF-00001  Air Filter     No  37.354164   \n",
       "1       200611       7233  SCF-00001  Air Filter     No  37.354164   \n",
       "2       200613       7233  SCF-00001  Air Filter     No  37.354164   \n",
       "3       200615       7233  SCF-00001  Air Filter     No  37.354164   \n",
       "4       200617       7233  SCF-00001  Air Filter     No  37.354164   \n",
       "\n",
       "    Longitude  Distance(miles)     Bearing Direction  ... Filter Type Volume  \\\n",
       "0  140.322898        39.321527  263.416056         W  ...    charcoal   22.0   \n",
       "1  140.322898        39.321527  263.416056         W  ...    charcoal   22.0   \n",
       "2  140.322898        39.321527  263.416056         W  ...    charcoal   22.0   \n",
       "3  140.322898        39.321527  263.416056         W  ...    charcoal   22.0   \n",
       "4  140.322898        39.321527  263.416056         W  ...    charcoal   22.0   \n",
       "\n",
       "  Volume Unit Uncertainty%           MDA         Method Code  Moisture%  \\\n",
       "0  cubic feet          0.0  4.827416e-12  Gamma Spectroscopy        NaN   \n",
       "1  cubic feet          0.0  1.123553e-11  Gamma Spectroscopy        NaN   \n",
       "2  cubic feet          0.0  2.790014e-12  Gamma Spectroscopy        NaN   \n",
       "3  cubic feet          0.0  7.045142e-12  Gamma Spectroscopy        NaN   \n",
       "4  cubic feet          0.0  2.578331e-12  Gamma Spectroscopy        NaN   \n",
       "\n",
       "   Nuclide Result    Unit  \n",
       "0   Ba-140    0.0  uCi/mL  \n",
       "1   Ce-144    0.0  uCi/mL  \n",
       "2   Cs-134    0.0  uCi/mL  \n",
       "3   Cs-136    0.0  uCi/mL  \n",
       "4   Cs-137    0.0  uCi/mL  \n",
       "\n",
       "[5 rows x 23 columns]"
      ]
     },
     "execution_count": 3,
     "metadata": {},
     "output_type": "execute_result"
    }
   ],
   "source": [
    "air.head()"
   ]
  },
  {
   "cell_type": "code",
   "execution_count": 4,
   "id": "eedb633d",
   "metadata": {},
   "outputs": [
    {
     "data": {
      "text/plain": [
       "(8378, 23)"
      ]
     },
     "execution_count": 4,
     "metadata": {},
     "output_type": "execute_result"
    }
   ],
   "source": [
    "air.shape"
   ]
  },
  {
   "cell_type": "code",
   "execution_count": 5,
   "id": "cb1ad42a",
   "metadata": {},
   "outputs": [
    {
     "data": {
      "text/plain": [
       "Analysis Id          int64\n",
       "Sample Id            int64\n",
       "Sample#             object\n",
       "Type                object\n",
       "Fixed?              object\n",
       "Latitude           float64\n",
       "Longitude          float64\n",
       "Distance(miles)    float64\n",
       "Bearing            float64\n",
       "Direction           object\n",
       "Collection Date     object\n",
       "Source              object\n",
       "Description         object\n",
       "Filter Type         object\n",
       "Volume             float64\n",
       "Volume Unit         object\n",
       "Uncertainty%       float64\n",
       "MDA                float64\n",
       "Method Code         object\n",
       "Moisture%          float64\n",
       "Nuclide             object\n",
       "Result             float64\n",
       "Unit                object\n",
       "dtype: object"
      ]
     },
     "execution_count": 5,
     "metadata": {},
     "output_type": "execute_result"
    }
   ],
   "source": [
    "air.dtypes"
   ]
  },
  {
   "cell_type": "code",
   "execution_count": 6,
   "id": "8cee6aff",
   "metadata": {},
   "outputs": [
    {
     "data": {
      "text/plain": [
       "Index(['Analysis Id', 'Sample Id', 'Sample#', 'Type', 'Fixed?', 'Latitude',\n",
       "       'Longitude', 'Distance(miles)', 'Bearing', 'Direction',\n",
       "       'Collection Date', 'Source', 'Description', 'Filter Type', 'Volume',\n",
       "       'Volume Unit', 'Uncertainty%', 'MDA', 'Method Code', 'Moisture%',\n",
       "       'Nuclide', 'Result', 'Unit'],\n",
       "      dtype='object')"
      ]
     },
     "execution_count": 6,
     "metadata": {},
     "output_type": "execute_result"
    }
   ],
   "source": [
    "air.columns"
   ]
  },
  {
   "cell_type": "code",
   "execution_count": 7,
   "id": "f52e3786",
   "metadata": {},
   "outputs": [
    {
     "data": {
      "text/plain": [
       "439"
      ]
     },
     "execution_count": 7,
     "metadata": {},
     "output_type": "execute_result"
    }
   ],
   "source": [
    "air['Collection Date'].nunique()"
   ]
  },
  {
   "cell_type": "code",
   "execution_count": 8,
   "id": "b5d5b0df",
   "metadata": {},
   "outputs": [
    {
     "data": {
      "text/plain": [
       "0       3/21/2011 4:54:57 PM\n",
       "1       3/21/2011 4:54:57 PM\n",
       "2       3/21/2011 4:54:57 PM\n",
       "3       3/21/2011 4:54:57 PM\n",
       "4       3/21/2011 4:54:57 PM\n",
       "                ...         \n",
       "8373    3/14/2011 2:00:00 PM\n",
       "8374    3/14/2011 2:00:00 PM\n",
       "8375    3/14/2011 2:00:00 PM\n",
       "8376    3/14/2011 2:00:00 PM\n",
       "8377    3/14/2011 2:00:00 PM\n",
       "Name: Collection Date, Length: 8378, dtype: object"
      ]
     },
     "execution_count": 8,
     "metadata": {},
     "output_type": "execute_result"
    }
   ],
   "source": [
    "air[\"Collection Date\"]"
   ]
  },
  {
   "cell_type": "code",
   "execution_count": 9,
   "id": "adbf2b7c",
   "metadata": {},
   "outputs": [
    {
     "data": {
      "text/plain": [
       "Analysis Id           0\n",
       "Sample Id             0\n",
       "Sample#               0\n",
       "Type                  0\n",
       "Fixed?                0\n",
       "Latitude              0\n",
       "Longitude             0\n",
       "Distance(miles)       0\n",
       "Bearing               0\n",
       "Direction             0\n",
       "Collection Date       0\n",
       "Source                0\n",
       "Description         101\n",
       "Filter Type           0\n",
       "Volume             1188\n",
       "Volume Unit           0\n",
       "Uncertainty%       1188\n",
       "MDA                1202\n",
       "Method Code        1380\n",
       "Moisture%          8378\n",
       "Nuclide               0\n",
       "Result                0\n",
       "Unit                  0\n",
       "dtype: int64"
      ]
     },
     "execution_count": 9,
     "metadata": {},
     "output_type": "execute_result"
    }
   ],
   "source": [
    "air.isnull().sum()"
   ]
  },
  {
   "cell_type": "code",
   "execution_count": 10,
   "id": "4b94790f",
   "metadata": {},
   "outputs": [
    {
     "data": {
      "text/plain": [
       "0"
      ]
     },
     "execution_count": 10,
     "metadata": {},
     "output_type": "execute_result"
    }
   ],
   "source": [
    "air[\"Moisture%\"].nunique()"
   ]
  },
  {
   "cell_type": "code",
   "execution_count": 11,
   "id": "895b1d19",
   "metadata": {},
   "outputs": [],
   "source": [
    "air.drop(\"Moisture%\",axis=1,inplace=True)"
   ]
  },
  {
   "cell_type": "code",
   "execution_count": 12,
   "id": "4c6af944",
   "metadata": {},
   "outputs": [
    {
     "data": {
      "text/plain": [
       "604"
      ]
     },
     "execution_count": 12,
     "metadata": {},
     "output_type": "execute_result"
    }
   ],
   "source": [
    "air[\"Sample\"].nunique()"
   ]
  },
  {
   "cell_type": "code",
   "execution_count": 13,
   "id": "5410b5af",
   "metadata": {},
   "outputs": [
    {
     "data": {
      "text/html": [
       "<div>\n",
       "<style scoped>\n",
       "    .dataframe tbody tr th:only-of-type {\n",
       "        vertical-align: middle;\n",
       "    }\n",
       "\n",
       "    .dataframe tbody tr th {\n",
       "        vertical-align: top;\n",
       "    }\n",
       "\n",
       "    .dataframe thead th {\n",
       "        text-align: right;\n",
       "    }\n",
       "</style>\n",
       "<table border=\"1\" class=\"dataframe\">\n",
       "  <thead>\n",
       "    <tr style=\"text-align: right;\">\n",
       "      <th></th>\n",
       "      <th>Analysis Id</th>\n",
       "      <th>Sample Id</th>\n",
       "      <th>Sample#</th>\n",
       "      <th>Type</th>\n",
       "      <th>Fixed?</th>\n",
       "      <th>Latitude</th>\n",
       "      <th>Longitude</th>\n",
       "      <th>Distance(miles)</th>\n",
       "      <th>Bearing</th>\n",
       "      <th>Direction</th>\n",
       "      <th>...</th>\n",
       "      <th>Description</th>\n",
       "      <th>Filter Type</th>\n",
       "      <th>Volume</th>\n",
       "      <th>Volume Unit</th>\n",
       "      <th>Uncertainty%</th>\n",
       "      <th>MDA</th>\n",
       "      <th>Method Code</th>\n",
       "      <th>Nuclide</th>\n",
       "      <th>Result</th>\n",
       "      <th>Unit</th>\n",
       "    </tr>\n",
       "  </thead>\n",
       "  <tbody>\n",
       "    <tr>\n",
       "      <th>0</th>\n",
       "      <td>200609</td>\n",
       "      <td>7233</td>\n",
       "      <td>SCF-00001</td>\n",
       "      <td>Air Filter</td>\n",
       "      <td>No</td>\n",
       "      <td>37.354164</td>\n",
       "      <td>140.322898</td>\n",
       "      <td>39.321527</td>\n",
       "      <td>263.416056</td>\n",
       "      <td>W</td>\n",
       "      <td>...</td>\n",
       "      <td>Field Team: Charcoal  Paired with SCF-07628  I...</td>\n",
       "      <td>charcoal</td>\n",
       "      <td>22.0</td>\n",
       "      <td>cubic feet</td>\n",
       "      <td>0.0</td>\n",
       "      <td>4.827416e-12</td>\n",
       "      <td>Gamma Spectroscopy</td>\n",
       "      <td>Ba-140</td>\n",
       "      <td>0.0</td>\n",
       "      <td>uCi/mL</td>\n",
       "    </tr>\n",
       "    <tr>\n",
       "      <th>1</th>\n",
       "      <td>200611</td>\n",
       "      <td>7233</td>\n",
       "      <td>SCF-00001</td>\n",
       "      <td>Air Filter</td>\n",
       "      <td>No</td>\n",
       "      <td>37.354164</td>\n",
       "      <td>140.322898</td>\n",
       "      <td>39.321527</td>\n",
       "      <td>263.416056</td>\n",
       "      <td>W</td>\n",
       "      <td>...</td>\n",
       "      <td>Field Team: Charcoal  Paired with SCF-07628  I...</td>\n",
       "      <td>charcoal</td>\n",
       "      <td>22.0</td>\n",
       "      <td>cubic feet</td>\n",
       "      <td>0.0</td>\n",
       "      <td>1.123553e-11</td>\n",
       "      <td>Gamma Spectroscopy</td>\n",
       "      <td>Ce-144</td>\n",
       "      <td>0.0</td>\n",
       "      <td>uCi/mL</td>\n",
       "    </tr>\n",
       "    <tr>\n",
       "      <th>2</th>\n",
       "      <td>200613</td>\n",
       "      <td>7233</td>\n",
       "      <td>SCF-00001</td>\n",
       "      <td>Air Filter</td>\n",
       "      <td>No</td>\n",
       "      <td>37.354164</td>\n",
       "      <td>140.322898</td>\n",
       "      <td>39.321527</td>\n",
       "      <td>263.416056</td>\n",
       "      <td>W</td>\n",
       "      <td>...</td>\n",
       "      <td>Field Team: Charcoal  Paired with SCF-07628  I...</td>\n",
       "      <td>charcoal</td>\n",
       "      <td>22.0</td>\n",
       "      <td>cubic feet</td>\n",
       "      <td>0.0</td>\n",
       "      <td>2.790014e-12</td>\n",
       "      <td>Gamma Spectroscopy</td>\n",
       "      <td>Cs-134</td>\n",
       "      <td>0.0</td>\n",
       "      <td>uCi/mL</td>\n",
       "    </tr>\n",
       "    <tr>\n",
       "      <th>3</th>\n",
       "      <td>200615</td>\n",
       "      <td>7233</td>\n",
       "      <td>SCF-00001</td>\n",
       "      <td>Air Filter</td>\n",
       "      <td>No</td>\n",
       "      <td>37.354164</td>\n",
       "      <td>140.322898</td>\n",
       "      <td>39.321527</td>\n",
       "      <td>263.416056</td>\n",
       "      <td>W</td>\n",
       "      <td>...</td>\n",
       "      <td>Field Team: Charcoal  Paired with SCF-07628  I...</td>\n",
       "      <td>charcoal</td>\n",
       "      <td>22.0</td>\n",
       "      <td>cubic feet</td>\n",
       "      <td>0.0</td>\n",
       "      <td>7.045142e-12</td>\n",
       "      <td>Gamma Spectroscopy</td>\n",
       "      <td>Cs-136</td>\n",
       "      <td>0.0</td>\n",
       "      <td>uCi/mL</td>\n",
       "    </tr>\n",
       "    <tr>\n",
       "      <th>4</th>\n",
       "      <td>200617</td>\n",
       "      <td>7233</td>\n",
       "      <td>SCF-00001</td>\n",
       "      <td>Air Filter</td>\n",
       "      <td>No</td>\n",
       "      <td>37.354164</td>\n",
       "      <td>140.322898</td>\n",
       "      <td>39.321527</td>\n",
       "      <td>263.416056</td>\n",
       "      <td>W</td>\n",
       "      <td>...</td>\n",
       "      <td>Field Team: Charcoal  Paired with SCF-07628  I...</td>\n",
       "      <td>charcoal</td>\n",
       "      <td>22.0</td>\n",
       "      <td>cubic feet</td>\n",
       "      <td>0.0</td>\n",
       "      <td>2.578331e-12</td>\n",
       "      <td>Gamma Spectroscopy</td>\n",
       "      <td>Cs-137</td>\n",
       "      <td>0.0</td>\n",
       "      <td>uCi/mL</td>\n",
       "    </tr>\n",
       "  </tbody>\n",
       "</table>\n",
       "<p>5 rows × 22 columns</p>\n",
       "</div>"
      ],
      "text/plain": [
       "   Analysis Id  Sample Id    Sample#        Type Fixed?   Latitude  \\\n",
       "0       200609       7233  SCF-00001  Air Filter     No  37.354164   \n",
       "1       200611       7233  SCF-00001  Air Filter     No  37.354164   \n",
       "2       200613       7233  SCF-00001  Air Filter     No  37.354164   \n",
       "3       200615       7233  SCF-00001  Air Filter     No  37.354164   \n",
       "4       200617       7233  SCF-00001  Air Filter     No  37.354164   \n",
       "\n",
       "    Longitude  Distance(miles)     Bearing Direction  ...  \\\n",
       "0  140.322898        39.321527  263.416056         W  ...   \n",
       "1  140.322898        39.321527  263.416056         W  ...   \n",
       "2  140.322898        39.321527  263.416056         W  ...   \n",
       "3  140.322898        39.321527  263.416056         W  ...   \n",
       "4  140.322898        39.321527  263.416056         W  ...   \n",
       "\n",
       "                                         Description Filter Type Volume  \\\n",
       "0  Field Team: Charcoal  Paired with SCF-07628  I...    charcoal   22.0   \n",
       "1  Field Team: Charcoal  Paired with SCF-07628  I...    charcoal   22.0   \n",
       "2  Field Team: Charcoal  Paired with SCF-07628  I...    charcoal   22.0   \n",
       "3  Field Team: Charcoal  Paired with SCF-07628  I...    charcoal   22.0   \n",
       "4  Field Team: Charcoal  Paired with SCF-07628  I...    charcoal   22.0   \n",
       "\n",
       "  Volume Unit  Uncertainty%           MDA         Method Code  Nuclide Result  \\\n",
       "0  cubic feet           0.0  4.827416e-12  Gamma Spectroscopy   Ba-140    0.0   \n",
       "1  cubic feet           0.0  1.123553e-11  Gamma Spectroscopy   Ce-144    0.0   \n",
       "2  cubic feet           0.0  2.790014e-12  Gamma Spectroscopy   Cs-134    0.0   \n",
       "3  cubic feet           0.0  7.045142e-12  Gamma Spectroscopy   Cs-136    0.0   \n",
       "4  cubic feet           0.0  2.578331e-12  Gamma Spectroscopy   Cs-137    0.0   \n",
       "\n",
       "     Unit  \n",
       "0  uCi/mL  \n",
       "1  uCi/mL  \n",
       "2  uCi/mL  \n",
       "3  uCi/mL  \n",
       "4  uCi/mL  \n",
       "\n",
       "[5 rows x 22 columns]"
      ]
     },
     "execution_count": 13,
     "metadata": {},
     "output_type": "execute_result"
    }
   ],
   "source": [
    "air.head()"
   ]
  },
  {
   "cell_type": "code",
   "execution_count": 14,
   "id": "64190303",
   "metadata": {},
   "outputs": [],
   "source": [
    "air.dropna(inplace=True)"
   ]
  },
  {
   "cell_type": "code",
   "execution_count": 15,
   "id": "cf992fd9",
   "metadata": {},
   "outputs": [
    {
     "data": {
      "text/html": [
       "<div>\n",
       "<style scoped>\n",
       "    .dataframe tbody tr th:only-of-type {\n",
       "        vertical-align: middle;\n",
       "    }\n",
       "\n",
       "    .dataframe tbody tr th {\n",
       "        vertical-align: top;\n",
       "    }\n",
       "\n",
       "    .dataframe thead th {\n",
       "        text-align: right;\n",
       "    }\n",
       "</style>\n",
       "<table border=\"1\" class=\"dataframe\">\n",
       "  <thead>\n",
       "    <tr style=\"text-align: right;\">\n",
       "      <th></th>\n",
       "      <th>Analysis Id</th>\n",
       "      <th>Sample Id</th>\n",
       "      <th>Sample#</th>\n",
       "      <th>Type</th>\n",
       "      <th>Fixed?</th>\n",
       "      <th>Latitude</th>\n",
       "      <th>Longitude</th>\n",
       "      <th>Distance(miles)</th>\n",
       "      <th>Bearing</th>\n",
       "      <th>Direction</th>\n",
       "      <th>...</th>\n",
       "      <th>Description</th>\n",
       "      <th>Filter Type</th>\n",
       "      <th>Volume</th>\n",
       "      <th>Volume Unit</th>\n",
       "      <th>Uncertainty%</th>\n",
       "      <th>MDA</th>\n",
       "      <th>Method Code</th>\n",
       "      <th>Nuclide</th>\n",
       "      <th>Result</th>\n",
       "      <th>Unit</th>\n",
       "    </tr>\n",
       "  </thead>\n",
       "  <tbody>\n",
       "    <tr>\n",
       "      <th>6993</th>\n",
       "      <td>218885</td>\n",
       "      <td>8661</td>\n",
       "      <td>SCF-08646</td>\n",
       "      <td>Air Filter</td>\n",
       "      <td>No</td>\n",
       "      <td>32.293400</td>\n",
       "      <td>39.672000</td>\n",
       "      <td>5463.624742</td>\n",
       "      <td>302.377144</td>\n",
       "      <td>WNW</td>\n",
       "      <td>...</td>\n",
       "      <td>Description: PAPER;</td>\n",
       "      <td>paper</td>\n",
       "      <td>2993.5</td>\n",
       "      <td>cubic feet</td>\n",
       "      <td>3.502210e-07</td>\n",
       "      <td>4.795506e-07</td>\n",
       "      <td>GP Counting</td>\n",
       "      <td>Sr-Total</td>\n",
       "      <td>0.000002</td>\n",
       "      <td>uCi</td>\n",
       "    </tr>\n",
       "    <tr>\n",
       "      <th>6994</th>\n",
       "      <td>218887</td>\n",
       "      <td>8661</td>\n",
       "      <td>SCF-08646</td>\n",
       "      <td>Air Filter</td>\n",
       "      <td>No</td>\n",
       "      <td>32.293400</td>\n",
       "      <td>39.672000</td>\n",
       "      <td>5463.624742</td>\n",
       "      <td>302.377144</td>\n",
       "      <td>WNW</td>\n",
       "      <td>...</td>\n",
       "      <td>Description: PAPER;</td>\n",
       "      <td>paper</td>\n",
       "      <td>2993.5</td>\n",
       "      <td>cubic feet</td>\n",
       "      <td>4.758487e-07</td>\n",
       "      <td>4.795506e-07</td>\n",
       "      <td>GP Counting</td>\n",
       "      <td>Sr-89</td>\n",
       "      <td>0.000002</td>\n",
       "      <td>uCi</td>\n",
       "    </tr>\n",
       "    <tr>\n",
       "      <th>6995</th>\n",
       "      <td>218889</td>\n",
       "      <td>7087</td>\n",
       "      <td>SCF-08988</td>\n",
       "      <td>Air Filter</td>\n",
       "      <td>No</td>\n",
       "      <td>35.668706</td>\n",
       "      <td>139.743285</td>\n",
       "      <td>140.531810</td>\n",
       "      <td>210.966723</td>\n",
       "      <td>SSW</td>\n",
       "      <td>...</td>\n",
       "      <td>Field Team: Embassy Roof High Vol  I-132 (2.3h...</td>\n",
       "      <td>Hi-vol</td>\n",
       "      <td>14896.0</td>\n",
       "      <td>cubic feet</td>\n",
       "      <td>4.401873e-07</td>\n",
       "      <td>5.586493e-07</td>\n",
       "      <td>GP Counting</td>\n",
       "      <td>Sr-90</td>\n",
       "      <td>0.000002</td>\n",
       "      <td>uCi</td>\n",
       "    </tr>\n",
       "    <tr>\n",
       "      <th>6996</th>\n",
       "      <td>218891</td>\n",
       "      <td>7087</td>\n",
       "      <td>SCF-08988</td>\n",
       "      <td>Air Filter</td>\n",
       "      <td>No</td>\n",
       "      <td>35.668706</td>\n",
       "      <td>139.743285</td>\n",
       "      <td>140.531810</td>\n",
       "      <td>210.966723</td>\n",
       "      <td>SSW</td>\n",
       "      <td>...</td>\n",
       "      <td>Field Team: Embassy Roof High Vol  I-132 (2.3h...</td>\n",
       "      <td>Hi-vol</td>\n",
       "      <td>14896.0</td>\n",
       "      <td>cubic feet</td>\n",
       "      <td>7.080533e-07</td>\n",
       "      <td>5.586493e-07</td>\n",
       "      <td>GP Counting</td>\n",
       "      <td>Sr-Total</td>\n",
       "      <td>0.000008</td>\n",
       "      <td>uCi</td>\n",
       "    </tr>\n",
       "    <tr>\n",
       "      <th>6997</th>\n",
       "      <td>218893</td>\n",
       "      <td>7087</td>\n",
       "      <td>SCF-08988</td>\n",
       "      <td>Air Filter</td>\n",
       "      <td>No</td>\n",
       "      <td>35.668706</td>\n",
       "      <td>139.743285</td>\n",
       "      <td>140.531810</td>\n",
       "      <td>210.966723</td>\n",
       "      <td>SSW</td>\n",
       "      <td>...</td>\n",
       "      <td>Field Team: Embassy Roof High Vol  I-132 (2.3h...</td>\n",
       "      <td>Hi-vol</td>\n",
       "      <td>14896.0</td>\n",
       "      <td>cubic feet</td>\n",
       "      <td>4.401873e-07</td>\n",
       "      <td>5.586493e-07</td>\n",
       "      <td>GP Counting</td>\n",
       "      <td>Sr-89</td>\n",
       "      <td>0.000016</td>\n",
       "      <td>uCi</td>\n",
       "    </tr>\n",
       "  </tbody>\n",
       "</table>\n",
       "<p>5 rows × 22 columns</p>\n",
       "</div>"
      ],
      "text/plain": [
       "      Analysis Id  Sample Id    Sample#        Type Fixed?   Latitude  \\\n",
       "6993       218885       8661  SCF-08646  Air Filter     No  32.293400   \n",
       "6994       218887       8661  SCF-08646  Air Filter     No  32.293400   \n",
       "6995       218889       7087  SCF-08988  Air Filter     No  35.668706   \n",
       "6996       218891       7087  SCF-08988  Air Filter     No  35.668706   \n",
       "6997       218893       7087  SCF-08988  Air Filter     No  35.668706   \n",
       "\n",
       "       Longitude  Distance(miles)     Bearing Direction  ...  \\\n",
       "6993   39.672000      5463.624742  302.377144       WNW  ...   \n",
       "6994   39.672000      5463.624742  302.377144       WNW  ...   \n",
       "6995  139.743285       140.531810  210.966723       SSW  ...   \n",
       "6996  139.743285       140.531810  210.966723       SSW  ...   \n",
       "6997  139.743285       140.531810  210.966723       SSW  ...   \n",
       "\n",
       "                                            Description Filter Type   Volume  \\\n",
       "6993                                Description: PAPER;       paper   2993.5   \n",
       "6994                                Description: PAPER;       paper   2993.5   \n",
       "6995  Field Team: Embassy Roof High Vol  I-132 (2.3h...      Hi-vol  14896.0   \n",
       "6996  Field Team: Embassy Roof High Vol  I-132 (2.3h...      Hi-vol  14896.0   \n",
       "6997  Field Team: Embassy Roof High Vol  I-132 (2.3h...      Hi-vol  14896.0   \n",
       "\n",
       "     Volume Unit  Uncertainty%           MDA  Method Code   Nuclide    Result  \\\n",
       "6993  cubic feet  3.502210e-07  4.795506e-07  GP Counting  Sr-Total  0.000002   \n",
       "6994  cubic feet  4.758487e-07  4.795506e-07  GP Counting     Sr-89  0.000002   \n",
       "6995  cubic feet  4.401873e-07  5.586493e-07  GP Counting     Sr-90  0.000002   \n",
       "6996  cubic feet  7.080533e-07  5.586493e-07  GP Counting  Sr-Total  0.000008   \n",
       "6997  cubic feet  4.401873e-07  5.586493e-07  GP Counting     Sr-89  0.000016   \n",
       "\n",
       "     Unit  \n",
       "6993  uCi  \n",
       "6994  uCi  \n",
       "6995  uCi  \n",
       "6996  uCi  \n",
       "6997  uCi  \n",
       "\n",
       "[5 rows x 22 columns]"
      ]
     },
     "execution_count": 15,
     "metadata": {},
     "output_type": "execute_result"
    }
   ],
   "source": [
    "air.tail(5)"
   ]
  },
  {
   "cell_type": "code",
   "execution_count": 16,
   "id": "88d95cc9",
   "metadata": {},
   "outputs": [
    {
     "data": {
      "text/plain": [
       "Analysis Id        0\n",
       "Sample Id          0\n",
       "Sample#            0\n",
       "Type               0\n",
       "Fixed?             0\n",
       "Latitude           0\n",
       "Longitude          0\n",
       "Distance(miles)    0\n",
       "Bearing            0\n",
       "Direction          0\n",
       "Collection Date    0\n",
       "Source             0\n",
       "Description        0\n",
       "Filter Type        0\n",
       "Volume             0\n",
       "Volume Unit        0\n",
       "Uncertainty%       0\n",
       "MDA                0\n",
       "Method Code        0\n",
       "Nuclide            0\n",
       "Result             0\n",
       "Unit               0\n",
       "dtype: int64"
      ]
     },
     "execution_count": 16,
     "metadata": {},
     "output_type": "execute_result"
    }
   ],
   "source": [
    "air.isnull().sum()"
   ]
  },
  {
   "cell_type": "code",
   "execution_count": 17,
   "id": "c1fc159d",
   "metadata": {},
   "outputs": [
    {
     "data": {
      "text/plain": [
       "1"
      ]
     },
     "execution_count": 17,
     "metadata": {},
     "output_type": "execute_result"
    }
   ],
   "source": [
    "air[\"Type\"].nunique()"
   ]
  },
  {
   "cell_type": "code",
   "execution_count": 18,
   "id": "d1d0955e",
   "metadata": {},
   "outputs": [
    {
     "data": {
      "text/plain": [
       "array(['W', 'WSW', 'SSW', 'SW', 'N', 'NNW', 'WNW', 'NW', 'NNE', 'S',\n",
       "       'ENE'], dtype=object)"
      ]
     },
     "execution_count": 18,
     "metadata": {},
     "output_type": "execute_result"
    }
   ],
   "source": [
    "air[\"Direction\"].unique()"
   ]
  },
  {
   "cell_type": "code",
   "execution_count": 19,
   "id": "c0e63fd5",
   "metadata": {},
   "outputs": [
    {
     "data": {
      "text/plain": [
       "1"
      ]
     },
     "execution_count": 19,
     "metadata": {},
     "output_type": "execute_result"
    }
   ],
   "source": [
    "air[\"Source\"].nunique()"
   ]
  },
  {
   "cell_type": "code",
   "execution_count": 20,
   "id": "db8833e0",
   "metadata": {},
   "outputs": [
    {
     "data": {
      "text/plain": [
       "388"
      ]
     },
     "execution_count": 20,
     "metadata": {},
     "output_type": "execute_result"
    }
   ],
   "source": [
    "air[\"Description\"].nunique()"
   ]
  },
  {
   "cell_type": "code",
   "execution_count": 21,
   "id": "8ddabbe2",
   "metadata": {},
   "outputs": [
    {
     "data": {
      "text/plain": [
       "0    Field Team: Charcoal  Paired with SCF-07628  I...\n",
       "Name: Description, dtype: object"
      ]
     },
     "execution_count": 21,
     "metadata": {},
     "output_type": "execute_result"
    }
   ],
   "source": [
    "air[\"Description\"].head(1)"
   ]
  },
  {
   "cell_type": "code",
   "execution_count": 22,
   "id": "4c1e337d",
   "metadata": {},
   "outputs": [
    {
     "data": {
      "text/html": [
       "<div>\n",
       "<style scoped>\n",
       "    .dataframe tbody tr th:only-of-type {\n",
       "        vertical-align: middle;\n",
       "    }\n",
       "\n",
       "    .dataframe tbody tr th {\n",
       "        vertical-align: top;\n",
       "    }\n",
       "\n",
       "    .dataframe thead th {\n",
       "        text-align: right;\n",
       "    }\n",
       "</style>\n",
       "<table border=\"1\" class=\"dataframe\">\n",
       "  <thead>\n",
       "    <tr style=\"text-align: right;\">\n",
       "      <th></th>\n",
       "      <th>Analysis Id</th>\n",
       "      <th>Sample Id</th>\n",
       "      <th>Sample#</th>\n",
       "      <th>Type</th>\n",
       "      <th>Fixed?</th>\n",
       "      <th>Latitude</th>\n",
       "      <th>Longitude</th>\n",
       "      <th>Distance(miles)</th>\n",
       "      <th>Bearing</th>\n",
       "      <th>Direction</th>\n",
       "      <th>Collection Date</th>\n",
       "      <th>Source</th>\n",
       "      <th>Description</th>\n",
       "      <th>Filter Type</th>\n",
       "      <th>Volume</th>\n",
       "      <th>Volume Unit</th>\n",
       "      <th>Uncertainty%</th>\n",
       "      <th>MDA</th>\n",
       "      <th>Method Code</th>\n",
       "      <th>Nuclide</th>\n",
       "      <th>Result</th>\n",
       "      <th>Unit</th>\n",
       "    </tr>\n",
       "  </thead>\n",
       "  <tbody>\n",
       "    <tr>\n",
       "      <th>0</th>\n",
       "      <td>200609</td>\n",
       "      <td>7233</td>\n",
       "      <td>SCF-00001</td>\n",
       "      <td>Air Filter</td>\n",
       "      <td>No</td>\n",
       "      <td>37.354164</td>\n",
       "      <td>140.322898</td>\n",
       "      <td>39.321527</td>\n",
       "      <td>263.416056</td>\n",
       "      <td>W</td>\n",
       "      <td>3/21/2011 4:54:57 PM</td>\n",
       "      <td>DOE</td>\n",
       "      <td>Field Team: Charcoal  Paired with SCF-07628  I...</td>\n",
       "      <td>charcoal</td>\n",
       "      <td>22.0</td>\n",
       "      <td>cubic feet</td>\n",
       "      <td>0.000000e+00</td>\n",
       "      <td>4.827416e-12</td>\n",
       "      <td>Gamma Spectroscopy</td>\n",
       "      <td>Ba-140</td>\n",
       "      <td>0.000000</td>\n",
       "      <td>uCi/mL</td>\n",
       "    </tr>\n",
       "    <tr>\n",
       "      <th>1</th>\n",
       "      <td>200611</td>\n",
       "      <td>7233</td>\n",
       "      <td>SCF-00001</td>\n",
       "      <td>Air Filter</td>\n",
       "      <td>No</td>\n",
       "      <td>37.354164</td>\n",
       "      <td>140.322898</td>\n",
       "      <td>39.321527</td>\n",
       "      <td>263.416056</td>\n",
       "      <td>W</td>\n",
       "      <td>3/21/2011 4:54:57 PM</td>\n",
       "      <td>DOE</td>\n",
       "      <td>Field Team: Charcoal  Paired with SCF-07628  I...</td>\n",
       "      <td>charcoal</td>\n",
       "      <td>22.0</td>\n",
       "      <td>cubic feet</td>\n",
       "      <td>0.000000e+00</td>\n",
       "      <td>1.123553e-11</td>\n",
       "      <td>Gamma Spectroscopy</td>\n",
       "      <td>Ce-144</td>\n",
       "      <td>0.000000</td>\n",
       "      <td>uCi/mL</td>\n",
       "    </tr>\n",
       "    <tr>\n",
       "      <th>...</th>\n",
       "      <td>...</td>\n",
       "      <td>...</td>\n",
       "      <td>...</td>\n",
       "      <td>...</td>\n",
       "      <td>...</td>\n",
       "      <td>...</td>\n",
       "      <td>...</td>\n",
       "      <td>...</td>\n",
       "      <td>...</td>\n",
       "      <td>...</td>\n",
       "      <td>...</td>\n",
       "      <td>...</td>\n",
       "      <td>...</td>\n",
       "      <td>...</td>\n",
       "      <td>...</td>\n",
       "      <td>...</td>\n",
       "      <td>...</td>\n",
       "      <td>...</td>\n",
       "      <td>...</td>\n",
       "      <td>...</td>\n",
       "      <td>...</td>\n",
       "      <td>...</td>\n",
       "    </tr>\n",
       "    <tr>\n",
       "      <th>6996</th>\n",
       "      <td>218891</td>\n",
       "      <td>7087</td>\n",
       "      <td>SCF-08988</td>\n",
       "      <td>Air Filter</td>\n",
       "      <td>No</td>\n",
       "      <td>35.668706</td>\n",
       "      <td>139.743285</td>\n",
       "      <td>140.531810</td>\n",
       "      <td>210.966723</td>\n",
       "      <td>SSW</td>\n",
       "      <td>3/18/2011 2:05:28 PM</td>\n",
       "      <td>DOE</td>\n",
       "      <td>Field Team: Embassy Roof High Vol  I-132 (2.3h...</td>\n",
       "      <td>Hi-vol</td>\n",
       "      <td>14896.0</td>\n",
       "      <td>cubic feet</td>\n",
       "      <td>7.080533e-07</td>\n",
       "      <td>5.586493e-07</td>\n",
       "      <td>GP Counting</td>\n",
       "      <td>Sr-Total</td>\n",
       "      <td>0.000008</td>\n",
       "      <td>uCi</td>\n",
       "    </tr>\n",
       "    <tr>\n",
       "      <th>6997</th>\n",
       "      <td>218893</td>\n",
       "      <td>7087</td>\n",
       "      <td>SCF-08988</td>\n",
       "      <td>Air Filter</td>\n",
       "      <td>No</td>\n",
       "      <td>35.668706</td>\n",
       "      <td>139.743285</td>\n",
       "      <td>140.531810</td>\n",
       "      <td>210.966723</td>\n",
       "      <td>SSW</td>\n",
       "      <td>3/18/2011 2:05:28 PM</td>\n",
       "      <td>DOE</td>\n",
       "      <td>Field Team: Embassy Roof High Vol  I-132 (2.3h...</td>\n",
       "      <td>Hi-vol</td>\n",
       "      <td>14896.0</td>\n",
       "      <td>cubic feet</td>\n",
       "      <td>4.401873e-07</td>\n",
       "      <td>5.586493e-07</td>\n",
       "      <td>GP Counting</td>\n",
       "      <td>Sr-89</td>\n",
       "      <td>0.000016</td>\n",
       "      <td>uCi</td>\n",
       "    </tr>\n",
       "  </tbody>\n",
       "</table>\n",
       "<p>6889 rows × 22 columns</p>\n",
       "</div>"
      ],
      "text/plain": [
       "      Analysis Id  Sample Id    Sample#        Type Fixed?   Latitude  \\\n",
       "0          200609       7233  SCF-00001  Air Filter     No  37.354164   \n",
       "1          200611       7233  SCF-00001  Air Filter     No  37.354164   \n",
       "...           ...        ...        ...         ...    ...        ...   \n",
       "6996       218891       7087  SCF-08988  Air Filter     No  35.668706   \n",
       "6997       218893       7087  SCF-08988  Air Filter     No  35.668706   \n",
       "\n",
       "       Longitude  Distance(miles)     Bearing Direction       Collection Date  \\\n",
       "0     140.322898        39.321527  263.416056         W  3/21/2011 4:54:57 PM   \n",
       "1     140.322898        39.321527  263.416056         W  3/21/2011 4:54:57 PM   \n",
       "...          ...              ...         ...       ...                   ...   \n",
       "6996  139.743285       140.531810  210.966723       SSW  3/18/2011 2:05:28 PM   \n",
       "6997  139.743285       140.531810  210.966723       SSW  3/18/2011 2:05:28 PM   \n",
       "\n",
       "     Source                                        Description Filter Type  \\\n",
       "0       DOE  Field Team: Charcoal  Paired with SCF-07628  I...    charcoal   \n",
       "1       DOE  Field Team: Charcoal  Paired with SCF-07628  I...    charcoal   \n",
       "...     ...                                                ...         ...   \n",
       "6996    DOE  Field Team: Embassy Roof High Vol  I-132 (2.3h...      Hi-vol   \n",
       "6997    DOE  Field Team: Embassy Roof High Vol  I-132 (2.3h...      Hi-vol   \n",
       "\n",
       "       Volume Volume Unit  Uncertainty%           MDA         Method Code  \\\n",
       "0        22.0  cubic feet  0.000000e+00  4.827416e-12  Gamma Spectroscopy   \n",
       "1        22.0  cubic feet  0.000000e+00  1.123553e-11  Gamma Spectroscopy   \n",
       "...       ...         ...           ...           ...                 ...   \n",
       "6996  14896.0  cubic feet  7.080533e-07  5.586493e-07         GP Counting   \n",
       "6997  14896.0  cubic feet  4.401873e-07  5.586493e-07         GP Counting   \n",
       "\n",
       "       Nuclide    Result    Unit  \n",
       "0       Ba-140  0.000000  uCi/mL  \n",
       "1       Ce-144  0.000000  uCi/mL  \n",
       "...        ...       ...     ...  \n",
       "6996  Sr-Total  0.000008     uCi  \n",
       "6997     Sr-89  0.000016     uCi  \n",
       "\n",
       "[6889 rows x 22 columns]"
      ]
     },
     "execution_count": 22,
     "metadata": {},
     "output_type": "execute_result"
    }
   ],
   "source": [
    "pd.options.display.max_columns=23\n",
    "pd.options.display.max_rows=4\n",
    "air\n"
   ]
  },
  {
   "cell_type": "code",
   "execution_count": 23,
   "id": "192a05eb",
   "metadata": {},
   "outputs": [
    {
     "data": {
      "text/plain": [
       "Analysis Id    0\n",
       "Sample Id      0\n",
       "              ..\n",
       "Result         0\n",
       "Unit           0\n",
       "Length: 22, dtype: int64"
      ]
     },
     "execution_count": 23,
     "metadata": {},
     "output_type": "execute_result"
    }
   ],
   "source": [
    "air.isnull().sum()"
   ]
  },
  {
   "cell_type": "code",
   "execution_count": 56,
   "id": "9537ac5d",
   "metadata": {},
   "outputs": [],
   "source": [
    "air.drop(\"Description\",inplace=True,axis=1)"
   ]
  },
  {
   "cell_type": "code",
   "execution_count": 24,
   "id": "d5964336",
   "metadata": {},
   "outputs": [
    {
     "name": "stdout",
     "output_type": "stream",
     "text": [
      "<class 'pandas.core.frame.DataFrame'>\n",
      "Int64Index: 6889 entries, 0 to 6997\n",
      "Data columns (total 22 columns):\n",
      " #   Column           Non-Null Count  Dtype  \n",
      "---  ------           --------------  -----  \n",
      " 0   Analysis Id      6889 non-null   int64  \n",
      " 1   Sample Id        6889 non-null   int64  \n",
      " 2   Sample#          6889 non-null   object \n",
      " 3   Type             6889 non-null   object \n",
      " 4   Fixed?           6889 non-null   object \n",
      " 5   Latitude         6889 non-null   float64\n",
      " 6   Longitude        6889 non-null   float64\n",
      " 7   Distance(miles)  6889 non-null   float64\n",
      " 8   Bearing          6889 non-null   float64\n",
      " 9   Direction        6889 non-null   object \n",
      " 10  Collection Date  6889 non-null   object \n",
      " 11  Source           6889 non-null   object \n",
      " 12  Description      6889 non-null   object \n",
      " 13  Filter Type      6889 non-null   object \n",
      " 14  Volume           6889 non-null   float64\n",
      " 15  Volume Unit      6889 non-null   object \n",
      " 16  Uncertainty%     6889 non-null   float64\n",
      " 17  MDA              6889 non-null   float64\n",
      " 18  Method Code      6889 non-null   object \n",
      " 19  Nuclide          6889 non-null   object \n",
      " 20  Result           6889 non-null   float64\n",
      " 21  Unit             6889 non-null   object \n",
      "dtypes: float64(8), int64(2), object(12)\n",
      "memory usage: 1.2+ MB\n"
     ]
    }
   ],
   "source": [
    "air.info()"
   ]
  },
  {
   "cell_type": "code",
   "execution_count": 25,
   "id": "e433de28",
   "metadata": {},
   "outputs": [],
   "source": [
    "def change_datetime(column):\n",
    "    air[column]=pd.to_datetime(air[column],infer_datetime_format=True)"
   ]
  },
  {
   "cell_type": "code",
   "execution_count": 26,
   "id": "517f32aa",
   "metadata": {},
   "outputs": [],
   "source": [
    "for i in[\"Collection Date\"]:\n",
    "    change_datetime(i)\n",
    "  "
   ]
  },
  {
   "cell_type": "code",
   "execution_count": 27,
   "id": "611275fd",
   "metadata": {},
   "outputs": [],
   "source": [
    "air[\"Collection_Date\"]=air[\"Collection Date\"].dt.day"
   ]
  },
  {
   "cell_type": "code",
   "execution_count": 28,
   "id": "9409ca93",
   "metadata": {},
   "outputs": [],
   "source": [
    "air[\"Collection_month\"]=air[\"Collection Date\"].dt.month\n",
    "air[\"Collection_hour\"]=air[\"Collection Date\"].dt.hour\n",
    "air[\"Collection_minute\"]=air[\"Collection Date\"].dt.minute\n",
    "air[\"Collection_sec\"]=air[\"Collection Date\"].dt.second"
   ]
  },
  {
   "cell_type": "code",
   "execution_count": 29,
   "id": "fce8cc7b",
   "metadata": {},
   "outputs": [
    {
     "data": {
      "text/plain": [
       "Analysis Id          int64\n",
       "Sample Id            int64\n",
       "                     ...  \n",
       "Collection_minute    int64\n",
       "Collection_sec       int64\n",
       "Length: 27, dtype: object"
      ]
     },
     "execution_count": 29,
     "metadata": {},
     "output_type": "execute_result"
    }
   ],
   "source": [
    "air.dtypes"
   ]
  },
  {
   "cell_type": "code",
   "execution_count": 30,
   "id": "2a1efc54",
   "metadata": {},
   "outputs": [
    {
     "data": {
      "text/html": [
       "<div>\n",
       "<style scoped>\n",
       "    .dataframe tbody tr th:only-of-type {\n",
       "        vertical-align: middle;\n",
       "    }\n",
       "\n",
       "    .dataframe tbody tr th {\n",
       "        vertical-align: top;\n",
       "    }\n",
       "\n",
       "    .dataframe thead th {\n",
       "        text-align: right;\n",
       "    }\n",
       "</style>\n",
       "<table border=\"1\" class=\"dataframe\">\n",
       "  <thead>\n",
       "    <tr style=\"text-align: right;\">\n",
       "      <th></th>\n",
       "      <th>Analysis Id</th>\n",
       "      <th>Sample Id</th>\n",
       "      <th>Sample#</th>\n",
       "      <th>Type</th>\n",
       "      <th>Fixed?</th>\n",
       "      <th>Latitude</th>\n",
       "      <th>Longitude</th>\n",
       "      <th>Distance(miles)</th>\n",
       "      <th>Bearing</th>\n",
       "      <th>Direction</th>\n",
       "      <th>Collection Date</th>\n",
       "      <th>...</th>\n",
       "      <th>Uncertainty%</th>\n",
       "      <th>MDA</th>\n",
       "      <th>Method Code</th>\n",
       "      <th>Nuclide</th>\n",
       "      <th>Result</th>\n",
       "      <th>Unit</th>\n",
       "      <th>Collection_Date</th>\n",
       "      <th>Collection_month</th>\n",
       "      <th>Collection_hour</th>\n",
       "      <th>Collection_minute</th>\n",
       "      <th>Collection_sec</th>\n",
       "    </tr>\n",
       "  </thead>\n",
       "  <tbody>\n",
       "    <tr>\n",
       "      <th>0</th>\n",
       "      <td>200609</td>\n",
       "      <td>7233</td>\n",
       "      <td>SCF-00001</td>\n",
       "      <td>Air Filter</td>\n",
       "      <td>No</td>\n",
       "      <td>37.354164</td>\n",
       "      <td>140.322898</td>\n",
       "      <td>39.321527</td>\n",
       "      <td>263.416056</td>\n",
       "      <td>W</td>\n",
       "      <td>2011-03-21 16:54:57</td>\n",
       "      <td>...</td>\n",
       "      <td>0.0</td>\n",
       "      <td>4.827416e-12</td>\n",
       "      <td>Gamma Spectroscopy</td>\n",
       "      <td>Ba-140</td>\n",
       "      <td>0.0</td>\n",
       "      <td>uCi/mL</td>\n",
       "      <td>21</td>\n",
       "      <td>3</td>\n",
       "      <td>16</td>\n",
       "      <td>54</td>\n",
       "      <td>57</td>\n",
       "    </tr>\n",
       "    <tr>\n",
       "      <th>1</th>\n",
       "      <td>200611</td>\n",
       "      <td>7233</td>\n",
       "      <td>SCF-00001</td>\n",
       "      <td>Air Filter</td>\n",
       "      <td>No</td>\n",
       "      <td>37.354164</td>\n",
       "      <td>140.322898</td>\n",
       "      <td>39.321527</td>\n",
       "      <td>263.416056</td>\n",
       "      <td>W</td>\n",
       "      <td>2011-03-21 16:54:57</td>\n",
       "      <td>...</td>\n",
       "      <td>0.0</td>\n",
       "      <td>1.123553e-11</td>\n",
       "      <td>Gamma Spectroscopy</td>\n",
       "      <td>Ce-144</td>\n",
       "      <td>0.0</td>\n",
       "      <td>uCi/mL</td>\n",
       "      <td>21</td>\n",
       "      <td>3</td>\n",
       "      <td>16</td>\n",
       "      <td>54</td>\n",
       "      <td>57</td>\n",
       "    </tr>\n",
       "    <tr>\n",
       "      <th>2</th>\n",
       "      <td>200613</td>\n",
       "      <td>7233</td>\n",
       "      <td>SCF-00001</td>\n",
       "      <td>Air Filter</td>\n",
       "      <td>No</td>\n",
       "      <td>37.354164</td>\n",
       "      <td>140.322898</td>\n",
       "      <td>39.321527</td>\n",
       "      <td>263.416056</td>\n",
       "      <td>W</td>\n",
       "      <td>2011-03-21 16:54:57</td>\n",
       "      <td>...</td>\n",
       "      <td>0.0</td>\n",
       "      <td>2.790014e-12</td>\n",
       "      <td>Gamma Spectroscopy</td>\n",
       "      <td>Cs-134</td>\n",
       "      <td>0.0</td>\n",
       "      <td>uCi/mL</td>\n",
       "      <td>21</td>\n",
       "      <td>3</td>\n",
       "      <td>16</td>\n",
       "      <td>54</td>\n",
       "      <td>57</td>\n",
       "    </tr>\n",
       "  </tbody>\n",
       "</table>\n",
       "<p>3 rows × 27 columns</p>\n",
       "</div>"
      ],
      "text/plain": [
       "   Analysis Id  Sample Id    Sample#        Type Fixed?   Latitude  \\\n",
       "0       200609       7233  SCF-00001  Air Filter     No  37.354164   \n",
       "1       200611       7233  SCF-00001  Air Filter     No  37.354164   \n",
       "2       200613       7233  SCF-00001  Air Filter     No  37.354164   \n",
       "\n",
       "    Longitude  Distance(miles)     Bearing Direction     Collection Date  ...  \\\n",
       "0  140.322898        39.321527  263.416056         W 2011-03-21 16:54:57  ...   \n",
       "1  140.322898        39.321527  263.416056         W 2011-03-21 16:54:57  ...   \n",
       "2  140.322898        39.321527  263.416056         W 2011-03-21 16:54:57  ...   \n",
       "\n",
       "  Uncertainty%           MDA         Method Code  Nuclide Result    Unit  \\\n",
       "0          0.0  4.827416e-12  Gamma Spectroscopy   Ba-140    0.0  uCi/mL   \n",
       "1          0.0  1.123553e-11  Gamma Spectroscopy   Ce-144    0.0  uCi/mL   \n",
       "2          0.0  2.790014e-12  Gamma Spectroscopy   Cs-134    0.0  uCi/mL   \n",
       "\n",
       "   Collection_Date Collection_month Collection_hour  Collection_minute  \\\n",
       "0               21                3              16                 54   \n",
       "1               21                3              16                 54   \n",
       "2               21                3              16                 54   \n",
       "\n",
       "  Collection_sec  \n",
       "0             57  \n",
       "1             57  \n",
       "2             57  \n",
       "\n",
       "[3 rows x 27 columns]"
      ]
     },
     "execution_count": 30,
     "metadata": {},
     "output_type": "execute_result"
    }
   ],
   "source": [
    "air.head(3)"
   ]
  },
  {
   "cell_type": "code",
   "execution_count": 31,
   "id": "7ca00301",
   "metadata": {},
   "outputs": [],
   "source": [
    "air.drop(\"Collection Date\",axis=1,inplace=True)"
   ]
  },
  {
   "cell_type": "code",
   "execution_count": 32,
   "id": "772f6271",
   "metadata": {},
   "outputs": [
    {
     "data": {
      "text/plain": [
       "Index(['Analysis Id', 'Sample Id', 'Sample#', 'Type', 'Fixed?', 'Latitude',\n",
       "       'Longitude', 'Distance(miles)', 'Bearing', 'Direction', 'Source',\n",
       "       'Description', 'Filter Type', 'Volume', 'Volume Unit', 'Uncertainty%',\n",
       "       'MDA', 'Method Code', 'Nuclide', 'Result', 'Unit', 'Collection_Date',\n",
       "       'Collection_month', 'Collection_hour', 'Collection_minute',\n",
       "       'Collection_sec'],\n",
       "      dtype='object')"
      ]
     },
     "execution_count": 32,
     "metadata": {},
     "output_type": "execute_result"
    }
   ],
   "source": [
    "air.columns"
   ]
  },
  {
   "cell_type": "code",
   "execution_count": 33,
   "id": "b547b46d",
   "metadata": {},
   "outputs": [
    {
     "data": {
      "text/plain": [
       "3"
      ]
     },
     "execution_count": 33,
     "metadata": {},
     "output_type": "execute_result"
    }
   ],
   "source": [
    "air[\"Method Code\"].nunique()"
   ]
  },
  {
   "cell_type": "code",
   "execution_count": 34,
   "id": "c89a11c2",
   "metadata": {},
   "outputs": [
    {
     "data": {
      "text/plain": [
       "5"
      ]
     },
     "execution_count": 34,
     "metadata": {},
     "output_type": "execute_result"
    }
   ],
   "source": [
    "air['Filter Type'].nunique()"
   ]
  },
  {
   "cell_type": "code",
   "execution_count": 35,
   "id": "49c608d8",
   "metadata": {},
   "outputs": [],
   "source": [
    "air['Result']=air['Result'].astype(float)"
   ]
  },
  {
   "cell_type": "code",
   "execution_count": 36,
   "id": "d05bdecd",
   "metadata": {},
   "outputs": [
    {
     "name": "stdout",
     "output_type": "stream",
     "text": [
      "<class 'pandas.core.frame.DataFrame'>\n",
      "Int64Index: 6889 entries, 0 to 6997\n",
      "Data columns (total 26 columns):\n",
      " #   Column             Non-Null Count  Dtype  \n",
      "---  ------             --------------  -----  \n",
      " 0   Analysis Id        6889 non-null   int64  \n",
      " 1   Sample Id          6889 non-null   int64  \n",
      " 2   Sample#            6889 non-null   object \n",
      " 3   Type               6889 non-null   object \n",
      " 4   Fixed?             6889 non-null   object \n",
      " 5   Latitude           6889 non-null   float64\n",
      " 6   Longitude          6889 non-null   float64\n",
      " 7   Distance(miles)    6889 non-null   float64\n",
      " 8   Bearing            6889 non-null   float64\n",
      " 9   Direction          6889 non-null   object \n",
      " 10  Source             6889 non-null   object \n",
      " 11  Description        6889 non-null   object \n",
      " 12  Filter Type        6889 non-null   object \n",
      " 13  Volume             6889 non-null   float64\n",
      " 14  Volume Unit        6889 non-null   object \n",
      " 15  Uncertainty%       6889 non-null   float64\n",
      " 16  MDA                6889 non-null   float64\n",
      " 17  Method Code        6889 non-null   object \n",
      " 18  Nuclide            6889 non-null   object \n",
      " 19  Result             6889 non-null   float64\n",
      " 20  Unit               6889 non-null   object \n",
      " 21  Collection_Date    6889 non-null   int64  \n",
      " 22  Collection_month   6889 non-null   int64  \n",
      " 23  Collection_hour    6889 non-null   int64  \n",
      " 24  Collection_minute  6889 non-null   int64  \n",
      " 25  Collection_sec     6889 non-null   int64  \n",
      "dtypes: float64(8), int64(7), object(11)\n",
      "memory usage: 1.4+ MB\n"
     ]
    }
   ],
   "source": [
    "air.info()"
   ]
  },
  {
   "cell_type": "code",
   "execution_count": 37,
   "id": "c2215d1c",
   "metadata": {},
   "outputs": [
    {
     "data": {
      "text/plain": [
       "<Axes: xlabel='Direction', ylabel='Filter Type'>"
      ]
     },
     "execution_count": 37,
     "metadata": {},
     "output_type": "execute_result"
    },
    {
     "data": {
      "image/png": "[encoded data removed]",
      "text/plain": [
       "<Figure size 1000x500 with 1 Axes>"
      ]
     },
     "metadata": {},
     "output_type": "display_data"
    }
   ],
   "source": [
    "plt.figure(figsize=(10,5))\n",
    "sns.lineplot(x=air['Direction'],y=air['Filter Type'],hue=air[\"Method Code\"],palette=['orange','red','purple'],marker='o',\n",
    "             mew=2,mfc='c',mec='k',ms=12)\n"
   ]
  },
  {
   "cell_type": "code",
   "execution_count": 38,
   "id": "4f5d7311",
   "metadata": {},
   "outputs": [
    {
     "data": {
      "text/plain": [
       "<Axes: xlabel='Method Code', ylabel='count'>"
      ]
     },
     "execution_count": 38,
     "metadata": {},
     "output_type": "execute_result"
    },
    {
     "data": {
      "image/png": "[encoded data removed]",
      "text/plain": [
       "<Figure size 640x480 with 1 Axes>"
      ]
     },
     "metadata": {},
     "output_type": "display_data"
    }
   ],
   "source": [
    "sns.countplot(x=air[\"Method Code\"])"
   ]
  },
  {
   "cell_type": "code",
   "execution_count": 39,
   "id": "8f835212",
   "metadata": {},
   "outputs": [
    {
     "data": {
      "text/plain": [
       "<BarContainer object of 6889 artists>"
      ]
     },
     "execution_count": 39,
     "metadata": {},
     "output_type": "execute_result"
    },
    {
     "data": {
      "image/png": "[encoded data removed]",
      "text/plain": [
       "<Figure size 1000x500 with 1 Axes>"
      ]
     },
     "metadata": {},
     "output_type": "display_data"
    }
   ],
   "source": [
    "plt.figure(figsize=(10,5))\n",
    "plt.bar(air['Direction'],air['Latitude'],hatch=\"x\")"
   ]
  },
  {
   "cell_type": "code",
   "execution_count": 40,
   "id": "3d667dd2",
   "metadata": {},
   "outputs": [
    {
     "data": {
      "text/plain": [
       "<Axes: xlabel='Direction', ylabel='Count'>"
      ]
     },
     "execution_count": 40,
     "metadata": {},
     "output_type": "execute_result"
    },
    {
     "data": {
      "image/png": "[encoded data removed]",
      "text/plain": [
       "<Figure size 640x480 with 1 Axes>"
      ]
     },
     "metadata": {},
     "output_type": "display_data"
    }
   ],
   "source": [
    "sns.histplot(x=air[\"Direction\"],kde=True,color=\"black\")"
   ]
  },
  {
   "cell_type": "code",
   "execution_count": 42,
   "id": "7bc43560",
   "metadata": {},
   "outputs": [
    {
     "data": {
      "text/plain": [
       "<seaborn.axisgrid.FacetGrid at 0x1d08b27a190>"
      ]
     },
     "execution_count": 42,
     "metadata": {},
     "output_type": "execute_result"
    },
    {
     "data": {
      "image/png": "[encoded data removed]",
      "text/plain": [
       "<Figure size 1203x1500 with 5 Axes>"
      ]
     },
     "metadata": {},
     "output_type": "display_data"
    }
   ],
   "source": [
    "sns.relplot(x=air['Longitude'],y=air['Volume'],col=air['Filter Type'],hue=air[\"Method Code\"],palette=[\"blue\",'green','black']\n",
    "           ,col_wrap=2)"
   ]
  },
  {
   "cell_type": "code",
   "execution_count": 43,
   "id": "1913e6d6",
   "metadata": {},
   "outputs": [
    {
     "name": "stdout",
     "output_type": "stream",
     "text": [
      "<class 'pandas.core.frame.DataFrame'>\n",
      "Int64Index: 6889 entries, 0 to 6997\n",
      "Data columns (total 26 columns):\n",
      " #   Column             Non-Null Count  Dtype  \n",
      "---  ------             --------------  -----  \n",
      " 0   Analysis Id        6889 non-null   int64  \n",
      " 1   Sample Id          6889 non-null   int64  \n",
      " 2   Sample#            6889 non-null   object \n",
      " 3   Type               6889 non-null   object \n",
      " 4   Fixed?             6889 non-null   object \n",
      " 5   Latitude           6889 non-null   float64\n",
      " 6   Longitude          6889 non-null   float64\n",
      " 7   Distance(miles)    6889 non-null   float64\n",
      " 8   Bearing            6889 non-null   float64\n",
      " 9   Direction          6889 non-null   object \n",
      " 10  Source             6889 non-null   object \n",
      " 11  Description        6889 non-null   object \n",
      " 12  Filter Type        6889 non-null   object \n",
      " 13  Volume             6889 non-null   float64\n",
      " 14  Volume Unit        6889 non-null   object \n",
      " 15  Uncertainty%       6889 non-null   float64\n",
      " 16  MDA                6889 non-null   float64\n",
      " 17  Method Code        6889 non-null   object \n",
      " 18  Nuclide            6889 non-null   object \n",
      " 19  Result             6889 non-null   float64\n",
      " 20  Unit               6889 non-null   object \n",
      " 21  Collection_Date    6889 non-null   int64  \n",
      " 22  Collection_month   6889 non-null   int64  \n",
      " 23  Collection_hour    6889 non-null   int64  \n",
      " 24  Collection_minute  6889 non-null   int64  \n",
      " 25  Collection_sec     6889 non-null   int64  \n",
      "dtypes: float64(8), int64(7), object(11)\n",
      "memory usage: 1.4+ MB\n"
     ]
    }
   ],
   "source": [
    "air.info()"
   ]
  },
  {
   "cell_type": "code",
   "execution_count": 44,
   "id": "ea3862e3",
   "metadata": {},
   "outputs": [],
   "source": [
    "dic={\"No\":0,\"Yes\":1}"
   ]
  },
  {
   "cell_type": "code",
   "execution_count": 45,
   "id": "afabb8cf",
   "metadata": {},
   "outputs": [],
   "source": [
    "air[\"Fixed\"]=air[\"Fixed?\"].map(dic)"
   ]
  },
  {
   "cell_type": "code",
   "execution_count": 46,
   "id": "c02c282e",
   "metadata": {},
   "outputs": [
    {
     "data": {
      "text/plain": [
       "0       0\n",
       "1       0\n",
       "       ..\n",
       "6996    0\n",
       "6997    0\n",
       "Name: Fixed, Length: 6889, dtype: int64"
      ]
     },
     "execution_count": 46,
     "metadata": {},
     "output_type": "execute_result"
    }
   ],
   "source": [
    "air[\"Fixed\"]"
   ]
  },
  {
   "cell_type": "code",
   "execution_count": 47,
   "id": "522898f0",
   "metadata": {},
   "outputs": [],
   "source": [
    "air.drop(\"Fixed?\",inplace=True,axis=1)"
   ]
  },
  {
   "cell_type": "code",
   "execution_count": 48,
   "id": "e82399e0",
   "metadata": {},
   "outputs": [
    {
     "data": {
      "text/plain": [
       "array(['uCi/mL', 'uCi'], dtype=object)"
      ]
     },
     "execution_count": 48,
     "metadata": {},
     "output_type": "execute_result"
    }
   ],
   "source": [
    "air[\"Unit\"].unique()"
   ]
  },
  {
   "cell_type": "code",
   "execution_count": 57,
   "id": "8c861493",
   "metadata": {},
   "outputs": [],
   "source": [
    "cat_data=[columns for columns in air.columns if air[columns].dtypes==\"O\"]"
   ]
  },
  {
   "cell_type": "code",
   "execution_count": 58,
   "id": "3564a049",
   "metadata": {},
   "outputs": [],
   "source": [
    "cont_data=[columns for columns in air.columns if air[columns].dtypes!=\"O\"]"
   ]
  },
  {
   "cell_type": "code",
   "execution_count": 59,
   "id": "2a2bdc43",
   "metadata": {},
   "outputs": [
    {
     "data": {
      "text/plain": [
       "['Analysis Id',\n",
       " 'Sample Id',\n",
       " 'Latitude',\n",
       " 'Longitude',\n",
       " 'Distance(miles)',\n",
       " 'Bearing',\n",
       " 'Volume',\n",
       " 'Uncertainty%',\n",
       " 'MDA',\n",
       " 'Result',\n",
       " 'Collection_Date',\n",
       " 'Collection_month',\n",
       " 'Collection_hour',\n",
       " 'Collection_minute',\n",
       " 'Collection_sec',\n",
       " 'Fixed']"
      ]
     },
     "execution_count": 59,
     "metadata": {},
     "output_type": "execute_result"
    }
   ],
   "source": [
    "cont_data"
   ]
  },
  {
   "cell_type": "code",
   "execution_count": 60,
   "id": "9e709b68",
   "metadata": {},
   "outputs": [],
   "source": [
    "cat_data=air[cat_data]"
   ]
  },
  {
   "cell_type": "code",
   "execution_count": 61,
   "id": "62c27b91",
   "metadata": {},
   "outputs": [
    {
     "data": {
      "text/html": [
       "<div>\n",
       "<style scoped>\n",
       "    .dataframe tbody tr th:only-of-type {\n",
       "        vertical-align: middle;\n",
       "    }\n",
       "\n",
       "    .dataframe tbody tr th {\n",
       "        vertical-align: top;\n",
       "    }\n",
       "\n",
       "    .dataframe thead th {\n",
       "        text-align: right;\n",
       "    }\n",
       "</style>\n",
       "<table border=\"1\" class=\"dataframe\">\n",
       "  <thead>\n",
       "    <tr style=\"text-align: right;\">\n",
       "      <th></th>\n",
       "      <th>Sample#</th>\n",
       "      <th>Type</th>\n",
       "      <th>Direction</th>\n",
       "      <th>Source</th>\n",
       "      <th>Filter Type</th>\n",
       "      <th>Volume Unit</th>\n",
       "      <th>Method Code</th>\n",
       "      <th>Nuclide</th>\n",
       "      <th>Unit</th>\n",
       "    </tr>\n",
       "  </thead>\n",
       "  <tbody>\n",
       "    <tr>\n",
       "      <th>0</th>\n",
       "      <td>SCF-00001</td>\n",
       "      <td>Air Filter</td>\n",
       "      <td>W</td>\n",
       "      <td>DOE</td>\n",
       "      <td>charcoal</td>\n",
       "      <td>cubic feet</td>\n",
       "      <td>Gamma Spectroscopy</td>\n",
       "      <td>Ba-140</td>\n",
       "      <td>uCi/mL</td>\n",
       "    </tr>\n",
       "    <tr>\n",
       "      <th>1</th>\n",
       "      <td>SCF-00001</td>\n",
       "      <td>Air Filter</td>\n",
       "      <td>W</td>\n",
       "      <td>DOE</td>\n",
       "      <td>charcoal</td>\n",
       "      <td>cubic feet</td>\n",
       "      <td>Gamma Spectroscopy</td>\n",
       "      <td>Ce-144</td>\n",
       "      <td>uCi/mL</td>\n",
       "    </tr>\n",
       "    <tr>\n",
       "      <th>...</th>\n",
       "      <td>...</td>\n",
       "      <td>...</td>\n",
       "      <td>...</td>\n",
       "      <td>...</td>\n",
       "      <td>...</td>\n",
       "      <td>...</td>\n",
       "      <td>...</td>\n",
       "      <td>...</td>\n",
       "      <td>...</td>\n",
       "    </tr>\n",
       "    <tr>\n",
       "      <th>6996</th>\n",
       "      <td>SCF-08988</td>\n",
       "      <td>Air Filter</td>\n",
       "      <td>SSW</td>\n",
       "      <td>DOE</td>\n",
       "      <td>Hi-vol</td>\n",
       "      <td>cubic feet</td>\n",
       "      <td>GP Counting</td>\n",
       "      <td>Sr-Total</td>\n",
       "      <td>uCi</td>\n",
       "    </tr>\n",
       "    <tr>\n",
       "      <th>6997</th>\n",
       "      <td>SCF-08988</td>\n",
       "      <td>Air Filter</td>\n",
       "      <td>SSW</td>\n",
       "      <td>DOE</td>\n",
       "      <td>Hi-vol</td>\n",
       "      <td>cubic feet</td>\n",
       "      <td>GP Counting</td>\n",
       "      <td>Sr-89</td>\n",
       "      <td>uCi</td>\n",
       "    </tr>\n",
       "  </tbody>\n",
       "</table>\n",
       "<p>6889 rows × 9 columns</p>\n",
       "</div>"
      ],
      "text/plain": [
       "        Sample#        Type Direction Source Filter Type Volume Unit  \\\n",
       "0     SCF-00001  Air Filter         W    DOE    charcoal  cubic feet   \n",
       "1     SCF-00001  Air Filter         W    DOE    charcoal  cubic feet   \n",
       "...         ...         ...       ...    ...         ...         ...   \n",
       "6996  SCF-08988  Air Filter       SSW    DOE      Hi-vol  cubic feet   \n",
       "6997  SCF-08988  Air Filter       SSW    DOE      Hi-vol  cubic feet   \n",
       "\n",
       "             Method Code   Nuclide    Unit  \n",
       "0     Gamma Spectroscopy    Ba-140  uCi/mL  \n",
       "1     Gamma Spectroscopy    Ce-144  uCi/mL  \n",
       "...                  ...       ...     ...  \n",
       "6996         GP Counting  Sr-Total     uCi  \n",
       "6997         GP Counting     Sr-89     uCi  \n",
       "\n",
       "[6889 rows x 9 columns]"
      ]
     },
     "execution_count": 61,
     "metadata": {},
     "output_type": "execute_result"
    }
   ],
   "source": [
    "cat_data"
   ]
  },
  {
   "cell_type": "code",
   "execution_count": 62,
   "id": "4496d482",
   "metadata": {},
   "outputs": [],
   "source": [
    "cont_data=air[cont_data]"
   ]
  },
  {
   "cell_type": "code",
   "execution_count": 63,
   "id": "1891d6d1",
   "metadata": {},
   "outputs": [
    {
     "data": {
      "text/html": [
       "<div>\n",
       "<style scoped>\n",
       "    .dataframe tbody tr th:only-of-type {\n",
       "        vertical-align: middle;\n",
       "    }\n",
       "\n",
       "    .dataframe tbody tr th {\n",
       "        vertical-align: top;\n",
       "    }\n",
       "\n",
       "    .dataframe thead th {\n",
       "        text-align: right;\n",
       "    }\n",
       "</style>\n",
       "<table border=\"1\" class=\"dataframe\">\n",
       "  <thead>\n",
       "    <tr style=\"text-align: right;\">\n",
       "      <th></th>\n",
       "      <th>Analysis Id</th>\n",
       "      <th>Sample Id</th>\n",
       "      <th>Latitude</th>\n",
       "      <th>Longitude</th>\n",
       "      <th>Distance(miles)</th>\n",
       "      <th>Bearing</th>\n",
       "      <th>Volume</th>\n",
       "      <th>Uncertainty%</th>\n",
       "      <th>MDA</th>\n",
       "      <th>Result</th>\n",
       "      <th>Collection_Date</th>\n",
       "      <th>Collection_month</th>\n",
       "      <th>Collection_hour</th>\n",
       "      <th>Collection_minute</th>\n",
       "      <th>Collection_sec</th>\n",
       "      <th>Fixed</th>\n",
       "    </tr>\n",
       "  </thead>\n",
       "  <tbody>\n",
       "    <tr>\n",
       "      <th>0</th>\n",
       "      <td>200609</td>\n",
       "      <td>7233</td>\n",
       "      <td>37.354164</td>\n",
       "      <td>140.322898</td>\n",
       "      <td>39.321527</td>\n",
       "      <td>263.416056</td>\n",
       "      <td>22.0</td>\n",
       "      <td>0.000000e+00</td>\n",
       "      <td>4.827416e-12</td>\n",
       "      <td>0.000000</td>\n",
       "      <td>21</td>\n",
       "      <td>3</td>\n",
       "      <td>16</td>\n",
       "      <td>54</td>\n",
       "      <td>57</td>\n",
       "      <td>0</td>\n",
       "    </tr>\n",
       "    <tr>\n",
       "      <th>1</th>\n",
       "      <td>200611</td>\n",
       "      <td>7233</td>\n",
       "      <td>37.354164</td>\n",
       "      <td>140.322898</td>\n",
       "      <td>39.321527</td>\n",
       "      <td>263.416056</td>\n",
       "      <td>22.0</td>\n",
       "      <td>0.000000e+00</td>\n",
       "      <td>1.123553e-11</td>\n",
       "      <td>0.000000</td>\n",
       "      <td>21</td>\n",
       "      <td>3</td>\n",
       "      <td>16</td>\n",
       "      <td>54</td>\n",
       "      <td>57</td>\n",
       "      <td>0</td>\n",
       "    </tr>\n",
       "    <tr>\n",
       "      <th>...</th>\n",
       "      <td>...</td>\n",
       "      <td>...</td>\n",
       "      <td>...</td>\n",
       "      <td>...</td>\n",
       "      <td>...</td>\n",
       "      <td>...</td>\n",
       "      <td>...</td>\n",
       "      <td>...</td>\n",
       "      <td>...</td>\n",
       "      <td>...</td>\n",
       "      <td>...</td>\n",
       "      <td>...</td>\n",
       "      <td>...</td>\n",
       "      <td>...</td>\n",
       "      <td>...</td>\n",
       "      <td>...</td>\n",
       "    </tr>\n",
       "    <tr>\n",
       "      <th>6996</th>\n",
       "      <td>218891</td>\n",
       "      <td>7087</td>\n",
       "      <td>35.668706</td>\n",
       "      <td>139.743285</td>\n",
       "      <td>140.531810</td>\n",
       "      <td>210.966723</td>\n",
       "      <td>14896.0</td>\n",
       "      <td>7.080533e-07</td>\n",
       "      <td>5.586493e-07</td>\n",
       "      <td>0.000008</td>\n",
       "      <td>18</td>\n",
       "      <td>3</td>\n",
       "      <td>14</td>\n",
       "      <td>5</td>\n",
       "      <td>28</td>\n",
       "      <td>0</td>\n",
       "    </tr>\n",
       "    <tr>\n",
       "      <th>6997</th>\n",
       "      <td>218893</td>\n",
       "      <td>7087</td>\n",
       "      <td>35.668706</td>\n",
       "      <td>139.743285</td>\n",
       "      <td>140.531810</td>\n",
       "      <td>210.966723</td>\n",
       "      <td>14896.0</td>\n",
       "      <td>4.401873e-07</td>\n",
       "      <td>5.586493e-07</td>\n",
       "      <td>0.000016</td>\n",
       "      <td>18</td>\n",
       "      <td>3</td>\n",
       "      <td>14</td>\n",
       "      <td>5</td>\n",
       "      <td>28</td>\n",
       "      <td>0</td>\n",
       "    </tr>\n",
       "  </tbody>\n",
       "</table>\n",
       "<p>6889 rows × 16 columns</p>\n",
       "</div>"
      ],
      "text/plain": [
       "      Analysis Id  Sample Id   Latitude   Longitude  Distance(miles)  \\\n",
       "0          200609       7233  37.354164  140.322898        39.321527   \n",
       "1          200611       7233  37.354164  140.322898        39.321527   \n",
       "...           ...        ...        ...         ...              ...   \n",
       "6996       218891       7087  35.668706  139.743285       140.531810   \n",
       "6997       218893       7087  35.668706  139.743285       140.531810   \n",
       "\n",
       "         Bearing   Volume  Uncertainty%           MDA    Result  \\\n",
       "0     263.416056     22.0  0.000000e+00  4.827416e-12  0.000000   \n",
       "1     263.416056     22.0  0.000000e+00  1.123553e-11  0.000000   \n",
       "...          ...      ...           ...           ...       ...   \n",
       "6996  210.966723  14896.0  7.080533e-07  5.586493e-07  0.000008   \n",
       "6997  210.966723  14896.0  4.401873e-07  5.586493e-07  0.000016   \n",
       "\n",
       "      Collection_Date  Collection_month  Collection_hour  Collection_minute  \\\n",
       "0                  21                 3               16                 54   \n",
       "1                  21                 3               16                 54   \n",
       "...               ...               ...              ...                ...   \n",
       "6996               18                 3               14                  5   \n",
       "6997               18                 3               14                  5   \n",
       "\n",
       "      Collection_sec  Fixed  \n",
       "0                 57      0  \n",
       "1                 57      0  \n",
       "...              ...    ...  \n",
       "6996              28      0  \n",
       "6997              28      0  \n",
       "\n",
       "[6889 rows x 16 columns]"
      ]
     },
     "execution_count": 63,
     "metadata": {},
     "output_type": "execute_result"
    }
   ],
   "source": [
    "cont_data"
   ]
  },
  {
   "cell_type": "code",
   "execution_count": 64,
   "id": "499f5af8",
   "metadata": {},
   "outputs": [],
   "source": [
    "Type=pd.get_dummies(cat_data[\"Type\"],drop_first=True)"
   ]
  },
  {
   "cell_type": "code",
   "execution_count": 65,
   "id": "58833e1e",
   "metadata": {},
   "outputs": [
    {
     "data": {
      "text/html": [
       "<div>\n",
       "<style scoped>\n",
       "    .dataframe tbody tr th:only-of-type {\n",
       "        vertical-align: middle;\n",
       "    }\n",
       "\n",
       "    .dataframe tbody tr th {\n",
       "        vertical-align: top;\n",
       "    }\n",
       "\n",
       "    .dataframe thead th {\n",
       "        text-align: right;\n",
       "    }\n",
       "</style>\n",
       "<table border=\"1\" class=\"dataframe\">\n",
       "  <thead>\n",
       "    <tr style=\"text-align: right;\">\n",
       "      <th></th>\n",
       "    </tr>\n",
       "  </thead>\n",
       "  <tbody>\n",
       "    <tr>\n",
       "      <th>0</th>\n",
       "    </tr>\n",
       "    <tr>\n",
       "      <th>1</th>\n",
       "    </tr>\n",
       "  </tbody>\n",
       "</table>\n",
       "</div>"
      ],
      "text/plain": [
       "Empty DataFrame\n",
       "Columns: []\n",
       "Index: [0, 1]"
      ]
     },
     "execution_count": 65,
     "metadata": {},
     "output_type": "execute_result"
    }
   ],
   "source": [
    "Type.head(2)"
   ]
  },
  {
   "cell_type": "code",
   "execution_count": 66,
   "id": "e2f10474",
   "metadata": {},
   "outputs": [
    {
     "data": {
      "text/html": [
       "<div>\n",
       "<style scoped>\n",
       "    .dataframe tbody tr th:only-of-type {\n",
       "        vertical-align: middle;\n",
       "    }\n",
       "\n",
       "    .dataframe tbody tr th {\n",
       "        vertical-align: top;\n",
       "    }\n",
       "\n",
       "    .dataframe thead th {\n",
       "        text-align: right;\n",
       "    }\n",
       "</style>\n",
       "<table border=\"1\" class=\"dataframe\">\n",
       "  <thead>\n",
       "    <tr style=\"text-align: right;\">\n",
       "      <th></th>\n",
       "      <th>Sample#</th>\n",
       "      <th>Type</th>\n",
       "      <th>Direction</th>\n",
       "      <th>Source</th>\n",
       "      <th>Filter Type</th>\n",
       "      <th>Volume Unit</th>\n",
       "      <th>Method Code</th>\n",
       "      <th>Nuclide</th>\n",
       "      <th>Unit</th>\n",
       "    </tr>\n",
       "  </thead>\n",
       "  <tbody>\n",
       "    <tr>\n",
       "      <th>0</th>\n",
       "      <td>SCF-00001</td>\n",
       "      <td>Air Filter</td>\n",
       "      <td>W</td>\n",
       "      <td>DOE</td>\n",
       "      <td>charcoal</td>\n",
       "      <td>cubic feet</td>\n",
       "      <td>Gamma Spectroscopy</td>\n",
       "      <td>Ba-140</td>\n",
       "      <td>uCi/mL</td>\n",
       "    </tr>\n",
       "    <tr>\n",
       "      <th>1</th>\n",
       "      <td>SCF-00001</td>\n",
       "      <td>Air Filter</td>\n",
       "      <td>W</td>\n",
       "      <td>DOE</td>\n",
       "      <td>charcoal</td>\n",
       "      <td>cubic feet</td>\n",
       "      <td>Gamma Spectroscopy</td>\n",
       "      <td>Ce-144</td>\n",
       "      <td>uCi/mL</td>\n",
       "    </tr>\n",
       "  </tbody>\n",
       "</table>\n",
       "</div>"
      ],
      "text/plain": [
       "     Sample#        Type Direction Source Filter Type Volume Unit  \\\n",
       "0  SCF-00001  Air Filter         W    DOE    charcoal  cubic feet   \n",
       "1  SCF-00001  Air Filter         W    DOE    charcoal  cubic feet   \n",
       "\n",
       "          Method Code Nuclide    Unit  \n",
       "0  Gamma Spectroscopy  Ba-140  uCi/mL  \n",
       "1  Gamma Spectroscopy  Ce-144  uCi/mL  "
      ]
     },
     "execution_count": 66,
     "metadata": {},
     "output_type": "execute_result"
    }
   ],
   "source": [
    "cat_data.head(2)"
   ]
  },
  {
   "cell_type": "code",
   "execution_count": 67,
   "id": "4e9bbdaa",
   "metadata": {},
   "outputs": [],
   "source": [
    "Direction=pd.get_dummies(cat_data[\"Direction\"],drop_first=True)"
   ]
  },
  {
   "cell_type": "code",
   "execution_count": 68,
   "id": "df502cec",
   "metadata": {},
   "outputs": [],
   "source": [
    "Filter_Type=pd.get_dummies(cat_data[\"Filter Type\"],drop_first=True)"
   ]
  },
  {
   "cell_type": "code",
   "execution_count": 69,
   "id": "d338c890",
   "metadata": {},
   "outputs": [],
   "source": [
    "Volume_Unit=pd.get_dummies(cat_data[\"Volume Unit\"],drop_first=True)\n",
    "\n"
   ]
  },
  {
   "cell_type": "code",
   "execution_count": 70,
   "id": "cd051996",
   "metadata": {},
   "outputs": [],
   "source": [
    "Method_Code=pd.get_dummies(cat_data[\"Method Code\"],drop_first=True)"
   ]
  },
  {
   "cell_type": "code",
   "execution_count": 71,
   "id": "725ed1c3",
   "metadata": {},
   "outputs": [],
   "source": [
    "Unit=pd.get_dummies(cat_data[\"Unit\"],drop_first=True)"
   ]
  },
  {
   "cell_type": "code",
   "execution_count": 72,
   "id": "d2d125bf",
   "metadata": {},
   "outputs": [
    {
     "data": {
      "text/plain": [
       "26"
      ]
     },
     "execution_count": 72,
     "metadata": {},
     "output_type": "execute_result"
    }
   ],
   "source": [
    "cat_data[\"Nuclide\"].nunique()"
   ]
  },
  {
   "cell_type": "code",
   "execution_count": 73,
   "id": "6d59cc0d",
   "metadata": {},
   "outputs": [
    {
     "data": {
      "text/html": [
       "<div>\n",
       "<style scoped>\n",
       "    .dataframe tbody tr th:only-of-type {\n",
       "        vertical-align: middle;\n",
       "    }\n",
       "\n",
       "    .dataframe tbody tr th {\n",
       "        vertical-align: top;\n",
       "    }\n",
       "\n",
       "    .dataframe thead th {\n",
       "        text-align: right;\n",
       "    }\n",
       "</style>\n",
       "<table border=\"1\" class=\"dataframe\">\n",
       "  <thead>\n",
       "    <tr style=\"text-align: right;\">\n",
       "      <th></th>\n",
       "      <th>Gamma Spectroscopy</th>\n",
       "      <th>Liquid Scintillation</th>\n",
       "    </tr>\n",
       "  </thead>\n",
       "  <tbody>\n",
       "    <tr>\n",
       "      <th>0</th>\n",
       "      <td>1</td>\n",
       "      <td>0</td>\n",
       "    </tr>\n",
       "    <tr>\n",
       "      <th>1</th>\n",
       "      <td>1</td>\n",
       "      <td>0</td>\n",
       "    </tr>\n",
       "    <tr>\n",
       "      <th>2</th>\n",
       "      <td>1</td>\n",
       "      <td>0</td>\n",
       "    </tr>\n",
       "  </tbody>\n",
       "</table>\n",
       "</div>"
      ],
      "text/plain": [
       "   Gamma Spectroscopy  Liquid Scintillation\n",
       "0                   1                     0\n",
       "1                   1                     0\n",
       "2                   1                     0"
      ]
     },
     "execution_count": 73,
     "metadata": {},
     "output_type": "execute_result"
    }
   ],
   "source": [
    "Method_Code.head(3)"
   ]
  },
  {
   "cell_type": "code",
   "execution_count": 74,
   "id": "c8e99e2a",
   "metadata": {},
   "outputs": [
    {
     "data": {
      "text/html": [
       "<div>\n",
       "<style scoped>\n",
       "    .dataframe tbody tr th:only-of-type {\n",
       "        vertical-align: middle;\n",
       "    }\n",
       "\n",
       "    .dataframe tbody tr th {\n",
       "        vertical-align: top;\n",
       "    }\n",
       "\n",
       "    .dataframe thead th {\n",
       "        text-align: right;\n",
       "    }\n",
       "</style>\n",
       "<table border=\"1\" class=\"dataframe\">\n",
       "  <thead>\n",
       "    <tr style=\"text-align: right;\">\n",
       "      <th></th>\n",
       "      <th>Hi-vol</th>\n",
       "      <th>Paper</th>\n",
       "      <th>charcoal</th>\n",
       "      <th>paper</th>\n",
       "    </tr>\n",
       "  </thead>\n",
       "  <tbody>\n",
       "    <tr>\n",
       "      <th>0</th>\n",
       "      <td>0</td>\n",
       "      <td>0</td>\n",
       "      <td>1</td>\n",
       "      <td>0</td>\n",
       "    </tr>\n",
       "    <tr>\n",
       "      <th>1</th>\n",
       "      <td>0</td>\n",
       "      <td>0</td>\n",
       "      <td>1</td>\n",
       "      <td>0</td>\n",
       "    </tr>\n",
       "    <tr>\n",
       "      <th>2</th>\n",
       "      <td>0</td>\n",
       "      <td>0</td>\n",
       "      <td>1</td>\n",
       "      <td>0</td>\n",
       "    </tr>\n",
       "    <tr>\n",
       "      <th>3</th>\n",
       "      <td>0</td>\n",
       "      <td>0</td>\n",
       "      <td>1</td>\n",
       "      <td>0</td>\n",
       "    </tr>\n",
       "  </tbody>\n",
       "</table>\n",
       "</div>"
      ],
      "text/plain": [
       "   Hi-vol  Paper  charcoal  paper\n",
       "0       0      0         1      0\n",
       "1       0      0         1      0\n",
       "2       0      0         1      0\n",
       "3       0      0         1      0"
      ]
     },
     "execution_count": 74,
     "metadata": {},
     "output_type": "execute_result"
    }
   ],
   "source": [
    "Filter_Type.head(4)"
   ]
  },
  {
   "cell_type": "code",
   "execution_count": 75,
   "id": "1b88d0e3",
   "metadata": {},
   "outputs": [],
   "source": [
    "new_data=pd.concat([cont_data,Type,Direction,Filter_Type,Volume_Unit,Method_Code,Unit],axis=1)"
   ]
  },
  {
   "cell_type": "code",
   "execution_count": 76,
   "id": "480aec79",
   "metadata": {},
   "outputs": [],
   "source": [
    "\n",
    "pd.options.display.max_columns=35"
   ]
  },
  {
   "cell_type": "code",
   "execution_count": 77,
   "id": "b50a9103",
   "metadata": {},
   "outputs": [
    {
     "data": {
      "text/html": [
       "<div>\n",
       "<style scoped>\n",
       "    .dataframe tbody tr th:only-of-type {\n",
       "        vertical-align: middle;\n",
       "    }\n",
       "\n",
       "    .dataframe tbody tr th {\n",
       "        vertical-align: top;\n",
       "    }\n",
       "\n",
       "    .dataframe thead th {\n",
       "        text-align: right;\n",
       "    }\n",
       "</style>\n",
       "<table border=\"1\" class=\"dataframe\">\n",
       "  <thead>\n",
       "    <tr style=\"text-align: right;\">\n",
       "      <th></th>\n",
       "      <th>Analysis Id</th>\n",
       "      <th>Sample Id</th>\n",
       "      <th>Latitude</th>\n",
       "      <th>Longitude</th>\n",
       "      <th>Distance(miles)</th>\n",
       "      <th>Bearing</th>\n",
       "      <th>Volume</th>\n",
       "      <th>Uncertainty%</th>\n",
       "      <th>MDA</th>\n",
       "      <th>Result</th>\n",
       "      <th>Collection_Date</th>\n",
       "      <th>Collection_month</th>\n",
       "      <th>Collection_hour</th>\n",
       "      <th>Collection_minute</th>\n",
       "      <th>Collection_sec</th>\n",
       "      <th>Fixed</th>\n",
       "      <th>N</th>\n",
       "      <th>NNE</th>\n",
       "      <th>NNW</th>\n",
       "      <th>NW</th>\n",
       "      <th>S</th>\n",
       "      <th>SSW</th>\n",
       "      <th>SW</th>\n",
       "      <th>W</th>\n",
       "      <th>WNW</th>\n",
       "      <th>WSW</th>\n",
       "      <th>Hi-vol</th>\n",
       "      <th>Paper</th>\n",
       "      <th>charcoal</th>\n",
       "      <th>paper</th>\n",
       "      <th>cubic feet</th>\n",
       "      <th>cubic feet/minute</th>\n",
       "      <th>Gamma Spectroscopy</th>\n",
       "      <th>Liquid Scintillation</th>\n",
       "      <th>uCi/mL</th>\n",
       "    </tr>\n",
       "  </thead>\n",
       "  <tbody>\n",
       "    <tr>\n",
       "      <th>0</th>\n",
       "      <td>200609</td>\n",
       "      <td>7233</td>\n",
       "      <td>37.354164</td>\n",
       "      <td>140.322898</td>\n",
       "      <td>39.321527</td>\n",
       "      <td>263.416056</td>\n",
       "      <td>22.0</td>\n",
       "      <td>0.0</td>\n",
       "      <td>4.827416e-12</td>\n",
       "      <td>0.0</td>\n",
       "      <td>21</td>\n",
       "      <td>3</td>\n",
       "      <td>16</td>\n",
       "      <td>54</td>\n",
       "      <td>57</td>\n",
       "      <td>0</td>\n",
       "      <td>0</td>\n",
       "      <td>0</td>\n",
       "      <td>0</td>\n",
       "      <td>0</td>\n",
       "      <td>0</td>\n",
       "      <td>0</td>\n",
       "      <td>0</td>\n",
       "      <td>1</td>\n",
       "      <td>0</td>\n",
       "      <td>0</td>\n",
       "      <td>0</td>\n",
       "      <td>0</td>\n",
       "      <td>1</td>\n",
       "      <td>0</td>\n",
       "      <td>1</td>\n",
       "      <td>0</td>\n",
       "      <td>1</td>\n",
       "      <td>0</td>\n",
       "      <td>1</td>\n",
       "    </tr>\n",
       "    <tr>\n",
       "      <th>1</th>\n",
       "      <td>200611</td>\n",
       "      <td>7233</td>\n",
       "      <td>37.354164</td>\n",
       "      <td>140.322898</td>\n",
       "      <td>39.321527</td>\n",
       "      <td>263.416056</td>\n",
       "      <td>22.0</td>\n",
       "      <td>0.0</td>\n",
       "      <td>1.123553e-11</td>\n",
       "      <td>0.0</td>\n",
       "      <td>21</td>\n",
       "      <td>3</td>\n",
       "      <td>16</td>\n",
       "      <td>54</td>\n",
       "      <td>57</td>\n",
       "      <td>0</td>\n",
       "      <td>0</td>\n",
       "      <td>0</td>\n",
       "      <td>0</td>\n",
       "      <td>0</td>\n",
       "      <td>0</td>\n",
       "      <td>0</td>\n",
       "      <td>0</td>\n",
       "      <td>1</td>\n",
       "      <td>0</td>\n",
       "      <td>0</td>\n",
       "      <td>0</td>\n",
       "      <td>0</td>\n",
       "      <td>1</td>\n",
       "      <td>0</td>\n",
       "      <td>1</td>\n",
       "      <td>0</td>\n",
       "      <td>1</td>\n",
       "      <td>0</td>\n",
       "      <td>1</td>\n",
       "    </tr>\n",
       "    <tr>\n",
       "      <th>2</th>\n",
       "      <td>200613</td>\n",
       "      <td>7233</td>\n",
       "      <td>37.354164</td>\n",
       "      <td>140.322898</td>\n",
       "      <td>39.321527</td>\n",
       "      <td>263.416056</td>\n",
       "      <td>22.0</td>\n",
       "      <td>0.0</td>\n",
       "      <td>2.790014e-12</td>\n",
       "      <td>0.0</td>\n",
       "      <td>21</td>\n",
       "      <td>3</td>\n",
       "      <td>16</td>\n",
       "      <td>54</td>\n",
       "      <td>57</td>\n",
       "      <td>0</td>\n",
       "      <td>0</td>\n",
       "      <td>0</td>\n",
       "      <td>0</td>\n",
       "      <td>0</td>\n",
       "      <td>0</td>\n",
       "      <td>0</td>\n",
       "      <td>0</td>\n",
       "      <td>1</td>\n",
       "      <td>0</td>\n",
       "      <td>0</td>\n",
       "      <td>0</td>\n",
       "      <td>0</td>\n",
       "      <td>1</td>\n",
       "      <td>0</td>\n",
       "      <td>1</td>\n",
       "      <td>0</td>\n",
       "      <td>1</td>\n",
       "      <td>0</td>\n",
       "      <td>1</td>\n",
       "    </tr>\n",
       "  </tbody>\n",
       "</table>\n",
       "</div>"
      ],
      "text/plain": [
       "   Analysis Id  Sample Id   Latitude   Longitude  Distance(miles)     Bearing  \\\n",
       "0       200609       7233  37.354164  140.322898        39.321527  263.416056   \n",
       "1       200611       7233  37.354164  140.322898        39.321527  263.416056   \n",
       "2       200613       7233  37.354164  140.322898        39.321527  263.416056   \n",
       "\n",
       "   Volume  Uncertainty%           MDA  Result  Collection_Date  \\\n",
       "0    22.0           0.0  4.827416e-12     0.0               21   \n",
       "1    22.0           0.0  1.123553e-11     0.0               21   \n",
       "2    22.0           0.0  2.790014e-12     0.0               21   \n",
       "\n",
       "   Collection_month  Collection_hour  Collection_minute  Collection_sec  \\\n",
       "0                 3               16                 54              57   \n",
       "1                 3               16                 54              57   \n",
       "2                 3               16                 54              57   \n",
       "\n",
       "   Fixed  N  NNE  NNW  NW  S  SSW  SW  W  WNW  WSW  Hi-vol  Paper  charcoal  \\\n",
       "0      0  0    0    0   0  0    0   0  1    0    0       0      0         1   \n",
       "1      0  0    0    0   0  0    0   0  1    0    0       0      0         1   \n",
       "2      0  0    0    0   0  0    0   0  1    0    0       0      0         1   \n",
       "\n",
       "   paper  cubic feet  cubic feet/minute  Gamma Spectroscopy  \\\n",
       "0      0           1                  0                   1   \n",
       "1      0           1                  0                   1   \n",
       "2      0           1                  0                   1   \n",
       "\n",
       "   Liquid Scintillation  uCi/mL  \n",
       "0                     0       1  \n",
       "1                     0       1  \n",
       "2                     0       1  "
      ]
     },
     "execution_count": 77,
     "metadata": {},
     "output_type": "execute_result"
    }
   ],
   "source": [
    "new_data.head(3)"
   ]
  },
  {
   "cell_type": "code",
   "execution_count": 78,
   "id": "b2c26157",
   "metadata": {},
   "outputs": [
    {
     "name": "stdout",
     "output_type": "stream",
     "text": [
      "<class 'pandas.core.frame.DataFrame'>\n",
      "Int64Index: 6889 entries, 0 to 6997\n",
      "Data columns (total 35 columns):\n",
      " #   Column                Non-Null Count  Dtype  \n",
      "---  ------                --------------  -----  \n",
      " 0   Analysis Id           6889 non-null   int64  \n",
      " 1   Sample Id             6889 non-null   int64  \n",
      " 2   Latitude              6889 non-null   float64\n",
      " 3   Longitude             6889 non-null   float64\n",
      " 4   Distance(miles)       6889 non-null   float64\n",
      " 5   Bearing               6889 non-null   float64\n",
      " 6   Volume                6889 non-null   float64\n",
      " 7   Uncertainty%          6889 non-null   float64\n",
      " 8   MDA                   6889 non-null   float64\n",
      " 9   Result                6889 non-null   float64\n",
      " 10  Collection_Date       6889 non-null   int64  \n",
      " 11  Collection_month      6889 non-null   int64  \n",
      " 12  Collection_hour       6889 non-null   int64  \n",
      " 13  Collection_minute     6889 non-null   int64  \n",
      " 14  Collection_sec        6889 non-null   int64  \n",
      " 15  Fixed                 6889 non-null   int64  \n",
      " 16  N                     6889 non-null   uint8  \n",
      " 17  NNE                   6889 non-null   uint8  \n",
      " 18  NNW                   6889 non-null   uint8  \n",
      " 19  NW                    6889 non-null   uint8  \n",
      " 20  S                     6889 non-null   uint8  \n",
      " 21  SSW                   6889 non-null   uint8  \n",
      " 22  SW                    6889 non-null   uint8  \n",
      " 23  W                     6889 non-null   uint8  \n",
      " 24  WNW                   6889 non-null   uint8  \n",
      " 25  WSW                   6889 non-null   uint8  \n",
      " 26  Hi-vol                6889 non-null   uint8  \n",
      " 27  Paper                 6889 non-null   uint8  \n",
      " 28  charcoal              6889 non-null   uint8  \n",
      " 29  paper                 6889 non-null   uint8  \n",
      " 30  cubic feet            6889 non-null   uint8  \n",
      " 31  cubic feet/minute     6889 non-null   uint8  \n",
      " 32  Gamma Spectroscopy    6889 non-null   uint8  \n",
      " 33  Liquid Scintillation  6889 non-null   uint8  \n",
      " 34  uCi/mL                6889 non-null   uint8  \n",
      "dtypes: float64(8), int64(8), uint8(19)\n",
      "memory usage: 1.0 MB\n"
     ]
    }
   ],
   "source": [
    "new_data.info()"
   ]
  },
  {
   "cell_type": "code",
   "execution_count": 79,
   "id": "cb73889a",
   "metadata": {},
   "outputs": [],
   "source": [
    "new_data[\"N\"]=new_data[\"N\"].astype(int)"
   ]
  },
  {
   "cell_type": "code",
   "execution_count": 80,
   "id": "425e006d",
   "metadata": {},
   "outputs": [],
   "source": [
    "new_data[\"N\"]=new_data[\"N\"].astype(int)\n",
    "new_data[\"NNE\"]=new_data[\"NNE\"].astype(int)\n",
    "new_data[\"NNW\"]=new_data[\"NNW\"].astype(int)\n",
    "new_data[\"NW\"]=new_data[\"NW\"].astype(int)\n",
    "new_data[\"S\"]=new_data[\"S\"].astype(int)\n",
    "new_data[\"SSW\"]=new_data[\"SSW\"].astype(int)\n",
    "new_data[\"SW\"]=new_data[\"SW\"].astype(int)\n",
    "new_data[\"WNW\"]=new_data[\"WNW\"].astype(int)\n",
    "new_data[\"WSW\"]=new_data[\"WSW\"].astype(int)\n",
    "new_data[\"Hi-vol\"]=new_data[\"Hi-vol\"].astype(int)\n",
    "new_data[\"Paper\"]=new_data[\"Paper\"].astype(int)\n",
    "new_data[\"charcoal\"]=new_data[\"charcoal\"].astype(int)\n",
    "new_data[\"paper\"]=new_data[\"paper\"].astype(int)\n",
    "new_data[\"cubic feet\"]=new_data[\"cubic feet\"].astype(int)\n",
    "new_data[\"cubic feet/minute\"]=new_data[\"cubic feet/minute\"].astype(int)\n",
    "new_data[\"Gamma Spectroscopy\"]=new_data[\"Gamma Spectroscopy\"].astype(int)\n",
    "new_data[\"Liquid Scintillation\"]=new_data[\"Liquid Scintillation\"].astype(int)\n",
    "new_data[\"uCi/mL\"]=new_data[\"uCi/mL\"].astype(int)\n",
    "new_data[\"WNW\"]=new_data[\"WNW\"].astype(int)\n",
    "\n"
   ]
  },
  {
   "cell_type": "code",
   "execution_count": 81,
   "id": "c3086833",
   "metadata": {},
   "outputs": [
    {
     "name": "stdout",
     "output_type": "stream",
     "text": [
      "<class 'pandas.core.frame.DataFrame'>\n",
      "Int64Index: 6889 entries, 0 to 6997\n",
      "Data columns (total 35 columns):\n",
      " #   Column                Non-Null Count  Dtype  \n",
      "---  ------                --------------  -----  \n",
      " 0   Analysis Id           6889 non-null   int64  \n",
      " 1   Sample Id             6889 non-null   int64  \n",
      " 2   Latitude              6889 non-null   float64\n",
      " 3   Longitude             6889 non-null   float64\n",
      " 4   Distance(miles)       6889 non-null   float64\n",
      " 5   Bearing               6889 non-null   float64\n",
      " 6   Volume                6889 non-null   float64\n",
      " 7   Uncertainty%          6889 non-null   float64\n",
      " 8   MDA                   6889 non-null   float64\n",
      " 9   Result                6889 non-null   float64\n",
      " 10  Collection_Date       6889 non-null   int64  \n",
      " 11  Collection_month      6889 non-null   int64  \n",
      " 12  Collection_hour       6889 non-null   int64  \n",
      " 13  Collection_minute     6889 non-null   int64  \n",
      " 14  Collection_sec        6889 non-null   int64  \n",
      " 15  Fixed                 6889 non-null   int64  \n",
      " 16  N                     6889 non-null   int32  \n",
      " 17  NNE                   6889 non-null   int32  \n",
      " 18  NNW                   6889 non-null   int32  \n",
      " 19  NW                    6889 non-null   int32  \n",
      " 20  S                     6889 non-null   int32  \n",
      " 21  SSW                   6889 non-null   int32  \n",
      " 22  SW                    6889 non-null   int32  \n",
      " 23  W                     6889 non-null   uint8  \n",
      " 24  WNW                   6889 non-null   int32  \n",
      " 25  WSW                   6889 non-null   int32  \n",
      " 26  Hi-vol                6889 non-null   int32  \n",
      " 27  Paper                 6889 non-null   int32  \n",
      " 28  charcoal              6889 non-null   int32  \n",
      " 29  paper                 6889 non-null   int32  \n",
      " 30  cubic feet            6889 non-null   int32  \n",
      " 31  cubic feet/minute     6889 non-null   int32  \n",
      " 32  Gamma Spectroscopy    6889 non-null   int32  \n",
      " 33  Liquid Scintillation  6889 non-null   int32  \n",
      " 34  uCi/mL                6889 non-null   int32  \n",
      "dtypes: float64(8), int32(18), int64(8), uint8(1)\n",
      "memory usage: 1.4 MB\n"
     ]
    }
   ],
   "source": [
    "new_data.info()"
   ]
  },
  {
   "cell_type": "code",
   "execution_count": 82,
   "id": "866ca489",
   "metadata": {},
   "outputs": [],
   "source": [
    "from sklearn.model_selection import train_test_split"
   ]
  },
  {
   "cell_type": "code",
   "execution_count": 83,
   "id": "91b20134",
   "metadata": {},
   "outputs": [],
   "source": [
    "features=new_data.drop(\"Result\",axis=1)"
   ]
  },
  {
   "cell_type": "code",
   "execution_count": 84,
   "id": "ac02a56b",
   "metadata": {},
   "outputs": [],
   "source": [
    "target=new_data['Result']"
   ]
  },
  {
   "cell_type": "code",
   "execution_count": 85,
   "id": "3902b904",
   "metadata": {},
   "outputs": [],
   "source": [
    "X_train,X_test,y_train,y_test=train_test_split(features,target,test_size=0.2)"
   ]
  },
  {
   "cell_type": "code",
   "execution_count": 92,
   "id": "b8c75ddd",
   "metadata": {},
   "outputs": [
    {
     "name": "stdout",
     "output_type": "stream",
     "text": [
      "r2_score: 0.8301683467238525\n",
      "Mean Squared Error: 7.819147517739704e-16\n",
      "Mean Absolute Error: 1.6722805576369627e-09\n"
     ]
    }
   ],
   "source": [
    "\n",
    "from sklearn.ensemble import AdaBoostRegressor\n",
    "from sklearn.metrics import mean_absolute_error,mean_squared_error,r2_score\n",
    "Ada=AdaBoostRegressor()\n",
    "Ada.fit(X_train,y_train)\n",
    "y_pred=Ada.predict(X_test)\n",
    "\n",
    "Rsc=r2_score(y_test,y_pred)\n",
    "mse=mean_squared_error(y_test,y_pred)\n",
    "mae=mean_absolute_error(y_test,y_pred)\n",
    "\n",
    "print(\"r2_score:\",Rsc)\n",
    "print(\"Mean Squared Error:\",mse)\n",
    "print(\"Mean Absolute Error:\",mae)\n",
    "\n",
    "\n",
    "\n",
    "\n"
   ]
  },
  {
   "cell_type": "code",
   "execution_count": 94,
   "id": "8fe1a0c7",
   "metadata": {},
   "outputs": [
    {
     "data": {
      "text/plain": [
       "0.9973154970418073"
      ]
     },
     "execution_count": 94,
     "metadata": {},
     "output_type": "execute_result"
    }
   ],
   "source": [
    "Ada.score(X_train,y_train)"
   ]
  },
  {
   "cell_type": "code",
   "execution_count": 95,
   "id": "40db9664",
   "metadata": {},
   "outputs": [
    {
     "name": "stdout",
     "output_type": "stream",
     "text": [
      "Actual Values: 4314    0.0\n",
      "2063    0.0\n",
      "       ... \n",
      "6672    0.0\n",
      "6788    0.0\n",
      "Name: Result, Length: 5, dtype: float64\n",
      "predicted Values: [6.76954872e-10 6.76954872e-10 6.76954872e-10 6.76954872e-10\n",
      " 6.76954872e-10]\n"
     ]
    }
   ],
   "source": [
    "actual_value=y_test\n",
    "predicted=y_pred\n",
    "print(\"Actual Values:\",actual_value[:5])\n",
    "print(\"predicted Values:\",predicted[:5])\n"
   ]
  },
  {
   "cell_type": "code",
   "execution_count": 101,
   "id": "5df2631d",
   "metadata": {},
   "outputs": [
    {
     "data": {
      "text/plain": [
       "Text(0.5, 1.0, 'Actual Value Vs Predicated Value')"
      ]
     },
     "execution_count": 101,
     "metadata": {},
     "output_type": "execute_result"
    },
    {
     "data": {
      "image/png": "[encoded data removed]",
      "text/plain": [
       "<Figure size 640x480 with 1 Axes>"
      ]
     },
     "metadata": {},
     "output_type": "display_data"
    }
   ],
   "source": [
    "actual_value=y_test\n",
    "predicted=y_pred\n",
    "sns.regplot(x=actual_value,y=predicted)\n",
    "plt.xlabel(\"Actual Value\")\n",
    "plt.ylabel(\"Predicted Value\")"
   ]
  },
  {
   "cell_type": "code",
   "execution_count": null,
   "id": "2bb19a29",
   "metadata": {},
   "outputs": [],
   "source": []
  }
 ],
 "metadata": {
  "kernelspec": {
   "display_name": "Python 3 (ipykernel)",
   "language": "python",
   "name": "python3"
  },
  "language_info": {
   "codemirror_mode": {
    "name": "ipython",
    "version": 3
   },
   "file_extension": ".py",
   "mimetype": "text/x-python",
   "name": "python",
   "nbconvert_exporter": "python",
   "pygments_lexer": "ipython3",
   "version": "3.11.4"
  }
 },
 "nbformat": 4,
 "nbformat_minor": 5
}
